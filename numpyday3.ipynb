{
 "cells": [
  {
   "cell_type": "code",
   "execution_count": 3,
   "metadata": {},
   "outputs": [
    {
     "name": "stdout",
     "output_type": "stream",
     "text": [
      "[[-0.07778997 -2.27564211 -1.13187698  1.07733204]\n",
      " [ 0.26021178  0.36893584 -0.70998592 -0.916342  ]]\n"
     ]
    }
   ],
   "source": [
    "#we are genearting the random data here in the randn() function first argument is telling the number of array inside the array but 2nd argument is telling the number of elements in the each array\n",
    "import numpy as np\n",
    "data = np.random.randn(2,4)\n",
    "print(data)"
   ]
  },
  {
   "cell_type": "code",
   "execution_count": 4,
   "metadata": {},
   "outputs": [
    {
     "name": "stdout",
     "output_type": "stream",
     "text": [
      "[[ -0.7778997  -22.75642105 -11.31876979  10.77332042]\n",
      " [  2.60211784   3.68935839  -7.09985925  -9.16341999]]\n"
     ]
    }
   ],
   "source": [
    "#now if we do some calclation on the numpy array then\n",
    "print(data*10)\n",
    "#all the elements are multiplyied by 10 in the arrays"
   ]
  },
  {
   "cell_type": "code",
   "execution_count": 5,
   "metadata": {},
   "outputs": [
    {
     "name": "stdout",
     "output_type": "stream",
     "text": [
      "[1, 2, 34, 5, 1, 2, 34, 5]\n"
     ]
    }
   ],
   "source": [
    "#what if we do same thing with the lists\n",
    "lst=[1,2,34,5]\n",
    "print(lst+lst)\n",
    "#it is added all the elements in the new list of the lst"
   ]
  },
  {
   "cell_type": "code",
   "execution_count": 6,
   "metadata": {},
   "outputs": [
    {
     "name": "stdout",
     "output_type": "stream",
     "text": [
      "[[-0.15557994 -4.55128421 -2.26375396  2.15466408]\n",
      " [ 0.52042357  0.73787168 -1.41997185 -1.832684  ]]\n"
     ]
    }
   ],
   "source": [
    "#what if we do smae thing with numpy array??????????\n",
    "print(data+data)\n",
    "#it is proving the sum of each element with the each element"
   ]
  },
  {
   "cell_type": "code",
   "execution_count": 7,
   "metadata": {},
   "outputs": [
    {
     "data": {
      "text/plain": [
       "(2, 4)"
      ]
     },
     "execution_count": 7,
     "metadata": {},
     "output_type": "execute_result"
    }
   ],
   "source": [
    "#.shape function to provide the tuple which contain the nd array and the number of elemement in the each array\n",
    "data.shape"
   ]
  },
  {
   "cell_type": "code",
   "execution_count": 8,
   "metadata": {},
   "outputs": [
    {
     "data": {
      "text/plain": [
       "dtype('float64')"
      ]
     },
     "execution_count": 8,
     "metadata": {},
     "output_type": "execute_result"
    }
   ],
   "source": [
    "#.dtype function tells the data type of the array\n",
    "data.dtype"
   ]
  },
  {
   "cell_type": "code",
   "execution_count": 9,
   "metadata": {},
   "outputs": [
    {
     "name": "stdout",
     "output_type": "stream",
     "text": [
      "[1 2 3 4 5]\n"
     ]
    }
   ],
   "source": [
    "            ################creation of the nd-array##################\n",
    "lst=[1,2,3,4,5]\n",
    "arr=np.array(lst)\n",
    "print(arr)"
   ]
  },
  {
   "cell_type": "code",
   "execution_count": 10,
   "metadata": {},
   "outputs": [
    {
     "name": "stdout",
     "output_type": "stream",
     "text": [
      "[1 2 3 4 5]\n"
     ]
    }
   ],
   "source": [
    "#nested sequence returns the nd array like in below example it is 2d array\n",
    "lst1=[[1,2,3],[4,5,6]]\n",
    "arr1=np.array(lst1)\n",
    "print(arr)"
   ]
  },
  {
   "cell_type": "code",
   "execution_count": 11,
   "metadata": {},
   "outputs": [
    {
     "name": "stdout",
     "output_type": "stream",
     "text": [
      "(3,)\n",
      "1\n"
     ]
    }
   ],
   "source": [
    "lst1=[[1,2,3,4],[1,2,3],[1,2]]\n",
    "arr2=np.array(lst1)\n",
    "print(arr2.shape)\n",
    "print(arr2.ndim)\n",
    "#not showing the 2nd element in the output because there is not the symmentry"
   ]
  },
  {
   "cell_type": "code",
   "execution_count": 12,
   "metadata": {},
   "outputs": [
    {
     "name": "stdout",
     "output_type": "stream",
     "text": [
      "2\n"
     ]
    }
   ],
   "source": [
    "#ndim function returns the dimension of the numpy array\n",
    "ls=[[1,23,3],[2,3,5],[4,5,6]]\n",
    "arrx=np.array(ls)\n",
    "print(arrx.ndim)"
   ]
  },
  {
   "cell_type": "code",
   "execution_count": 13,
   "metadata": {},
   "outputs": [
    {
     "data": {
      "text/plain": [
       "array([ 0.,  0.,  0.,  0.,  0.,  0.,  0.,  0.,  0.,  0.])"
      ]
     },
     "execution_count": 13,
     "metadata": {},
     "output_type": "execute_result"
    }
   ],
   "source": [
    "#.zeros() function to create the numpy array\n",
    "np.zeros(10)"
   ]
  },
  {
   "cell_type": "code",
   "execution_count": 14,
   "metadata": {},
   "outputs": [
    {
     "data": {
      "text/plain": [
       "array([[ 0.,  0.,  0.,  0.,  0.,  0.,  0.,  0.,  0.,  0.],\n",
       "       [ 0.,  0.,  0.,  0.,  0.,  0.,  0.,  0.,  0.,  0.],\n",
       "       [ 0.,  0.,  0.,  0.,  0.,  0.,  0.,  0.,  0.,  0.]])"
      ]
     },
     "execution_count": 14,
     "metadata": {},
     "output_type": "execute_result"
    }
   ],
   "source": [
    "#it will create the numpy 3d array with each array containg the 10 zeros basically we are passing the tuple of dimension and elements as in the .shape function\n",
    "np.zeros((3,10))"
   ]
  },
  {
   "cell_type": "code",
   "execution_count": 15,
   "metadata": {},
   "outputs": [
    {
     "data": {
      "text/plain": [
       "array([ 1.,  1.,  1.,  1.,  1.,  1.,  1.,  1.,  1.,  1.])"
      ]
     },
     "execution_count": 15,
     "metadata": {},
     "output_type": "execute_result"
    }
   ],
   "source": [
    "#it will create the numpy array with all elements have 1\n",
    "np.ones(10)"
   ]
  },
  {
   "cell_type": "code",
   "execution_count": 16,
   "metadata": {},
   "outputs": [
    {
     "data": {
      "text/plain": [
       "array([[ 1.,  1.,  1.,  1.,  1.,  1.,  1.,  1.,  1.,  1.],\n",
       "       [ 1.,  1.,  1.,  1.,  1.,  1.,  1.,  1.,  1.,  1.],\n",
       "       [ 1.,  1.,  1.,  1.,  1.,  1.,  1.,  1.,  1.,  1.]])"
      ]
     },
     "execution_count": 16,
     "metadata": {},
     "output_type": "execute_result"
    }
   ],
   "source": [
    "np.ones((3,10))"
   ]
  },
  {
   "cell_type": "code",
   "execution_count": 17,
   "metadata": {},
   "outputs": [
    {
     "data": {
      "text/plain": [
       "array([[[  6.93422779e-310,   2.17182088e-316],\n",
       "        [  0.00000000e+000,   0.00000000e+000],\n",
       "        [  0.00000000e+000,   5.40144760e-062]],\n",
       "\n",
       "       [[  8.98355748e-067,   2.98903387e-032],\n",
       "        [  8.16322876e-043,   5.88458962e-062],\n",
       "        [  1.88865512e+185,   6.52285918e-038]]])"
      ]
     },
     "execution_count": 17,
     "metadata": {},
     "output_type": "execute_result"
    }
   ],
   "source": [
    "#it will create the two dimensional array and inside the each array conatins 3d array and each array conatins 2 elements\n",
    "np.empty((2,3,2))"
   ]
  },
  {
   "cell_type": "code",
   "execution_count": 18,
   "metadata": {},
   "outputs": [
    {
     "data": {
      "text/plain": [
       "array([ 0,  1,  2,  3,  4,  5,  6,  7,  8,  9, 10, 11, 12, 13, 14])"
      ]
     },
     "execution_count": 18,
     "metadata": {},
     "output_type": "execute_result"
    }
   ],
   "source": [
    "#.arange() function like a range function it is \n",
    "np.arange(15)"
   ]
  },
  {
   "cell_type": "code",
   "execution_count": 19,
   "metadata": {},
   "outputs": [
    {
     "data": {
      "text/plain": [
       "array([ 1,  3,  5,  7,  9, 11, 13])"
      ]
     },
     "execution_count": 19,
     "metadata": {},
     "output_type": "execute_result"
    }
   ],
   "source": [
    "np.arange(1,15,2) #last argument is for jumps"
   ]
  },
  {
   "cell_type": "code",
   "execution_count": 20,
   "metadata": {},
   "outputs": [
    {
     "name": "stdout",
     "output_type": "stream",
     "text": [
      "[1 2 3 3 4 5]\n"
     ]
    }
   ],
   "source": [
    "arr=np.asarray([1,2,3,3,4,5])\n",
    "print(arr)"
   ]
  },
  {
   "cell_type": "code",
   "execution_count": 21,
   "metadata": {},
   "outputs": [
    {
     "name": "stdout",
     "output_type": "stream",
     "text": [
      "[1 2 3 7 8]\n"
     ]
    }
   ],
   "source": [
    "arr=np.asarray([1,2,3,7,8])\n",
    "print(arr)"
   ]
  },
  {
   "cell_type": "code",
   "execution_count": 22,
   "metadata": {},
   "outputs": [
    {
     "name": "stdout",
     "output_type": "stream",
     "text": [
      "[1 2 3 7 8]\n"
     ]
    }
   ],
   "source": [
    "arr1=np.asarray(arr)\n",
    "print(arr1)"
   ]
  },
  {
   "cell_type": "code",
   "execution_count": 23,
   "metadata": {},
   "outputs": [
    {
     "name": "stdout",
     "output_type": "stream",
     "text": [
      "[1 2 3 7 8]\n"
     ]
    }
   ],
   "source": [
    "arr1=np.array(arr)\n",
    "print(arr1)"
   ]
  },
  {
   "cell_type": "code",
   "execution_count": 24,
   "metadata": {},
   "outputs": [
    {
     "name": "stdout",
     "output_type": "stream",
     "text": [
      "1\n"
     ]
    }
   ],
   "source": [
    "#produce a ones array\n",
    "x=np.ones_like(15)\n",
    "print(x)"
   ]
  },
  {
   "cell_type": "code",
   "execution_count": 25,
   "metadata": {},
   "outputs": [
    {
     "name": "stdout",
     "output_type": "stream",
     "text": [
      "0\n"
     ]
    }
   ],
   "source": [
    "z=np.zeros_like(15)\n",
    "print(z)"
   ]
  },
  {
   "cell_type": "code",
   "execution_count": 135,
   "metadata": {},
   "outputs": [
    {
     "name": "stdout",
     "output_type": "stream",
     "text": [
      "[[68 68]\n",
      " [68 68]\n",
      " [68 68]]\n",
      "2\n"
     ]
    }
   ],
   "source": [
    "#full function 2 dimensional array having 3 rows in each array\n",
    "v=np.full([3,2],68,dtype=int)\n",
    "print(v)\n",
    "print(v.ndim)"
   ]
  },
  {
   "cell_type": "code",
   "execution_count": 27,
   "metadata": {},
   "outputs": [],
   "source": [
    "                  ################Data types for ndarrays#################"
   ]
  },
  {
   "cell_type": "code",
   "execution_count": 28,
   "metadata": {},
   "outputs": [
    {
     "name": "stdout",
     "output_type": "stream",
     "text": [
      "[1 2 3]\n"
     ]
    }
   ],
   "source": [
    "x1=np.array([1,2,3],'i1') #i1 is a typecode which standfor int32 we can write np.int8 also there\n",
    "print(x1)"
   ]
  },
  {
   "cell_type": "code",
   "execution_count": 29,
   "metadata": {},
   "outputs": [
    {
     "name": "stdout",
     "output_type": "stream",
     "text": [
      "[245   2   3]\n"
     ]
    }
   ],
   "source": [
    "#we are getting 245 in the output because we cant store the negative numbers in the unsigned integers thus it is negate the 11 from the 256-11=245\n",
    "x2=np.array([-11,2,3],np.uint8)\n",
    "print(x2)"
   ]
  },
  {
   "cell_type": "code",
   "execution_count": 30,
   "metadata": {},
   "outputs": [
    {
     "name": "stdout",
     "output_type": "stream",
     "text": [
      "[ 1.  2.  3.  4.]\n"
     ]
    }
   ],
   "source": [
    "x3=np.array([1,2,3,4],'f')\n",
    "print(x3)"
   ]
  },
  {
   "cell_type": "code",
   "execution_count": 31,
   "metadata": {},
   "outputs": [
    {
     "data": {
      "text/plain": [
       "dtype('float32')"
      ]
     },
     "execution_count": 31,
     "metadata": {},
     "output_type": "execute_result"
    }
   ],
   "source": [
    "x3.dtype"
   ]
  },
  {
   "cell_type": "code",
   "execution_count": 32,
   "metadata": {},
   "outputs": [
    {
     "name": "stdout",
     "output_type": "stream",
     "text": [
      "Aman\n"
     ]
    }
   ],
   "source": [
    "x4=np.array('Aman')\n",
    "print(x4)"
   ]
  },
  {
   "cell_type": "code",
   "execution_count": 33,
   "metadata": {},
   "outputs": [
    {
     "data": {
      "text/plain": [
       "dtype('<U4')"
      ]
     },
     "execution_count": 33,
     "metadata": {},
     "output_type": "execute_result"
    }
   ],
   "source": [
    "x4.dtype"
   ]
  },
  {
   "cell_type": "code",
   "execution_count": 34,
   "metadata": {},
   "outputs": [
    {
     "name": "stdout",
     "output_type": "stream",
     "text": [
      "[ 1.+2.j  1.+3.j]\n",
      "complex128\n"
     ]
    }
   ],
   "source": [
    "x5=np.array([1+2j,1+3j])\n",
    "print(x5)\n",
    "print(x5.dtype)"
   ]
  },
  {
   "cell_type": "code",
   "execution_count": 35,
   "metadata": {
    "scrolled": false
   },
   "outputs": [
    {
     "name": "stdout",
     "output_type": "stream",
     "text": [
      "[[1 2]]\n",
      "object\n"
     ]
    }
   ],
   "source": [
    "#we are making the object here we can use x6 as object\n",
    "x6=np.array([(1,2)],'O')\n",
    "print(x6)\n",
    "print(x6.dtype)"
   ]
  },
  {
   "cell_type": "code",
   "execution_count": 36,
   "metadata": {},
   "outputs": [
    {
     "data": {
      "text/plain": [
       "array([1, 2, 3, 4])"
      ]
     },
     "execution_count": 36,
     "metadata": {},
     "output_type": "execute_result"
    }
   ],
   "source": [
    "x3.astype(np.int64)"
   ]
  },
  {
   "cell_type": "code",
   "execution_count": 37,
   "metadata": {},
   "outputs": [
    {
     "name": "stdout",
     "output_type": "stream",
     "text": [
      "[0 1 2 3 4 5 6 7 8 9]\n",
      "[1 2 7]\n"
     ]
    }
   ],
   "source": [
    "x7=np.arange(10)\n",
    "print(x7)\n",
    "x8=np.array([1.3,2.6,7.8],dtype=x7.dtype)\n",
    "print(x8)"
   ]
  },
  {
   "cell_type": "code",
   "execution_count": 38,
   "metadata": {},
   "outputs": [
    {
     "name": "stdout",
     "output_type": "stream",
     "text": [
      "[ 5 12 21 32]\n"
     ]
    }
   ],
   "source": [
    "                       ###########Arithmetics in the numpy#################\n",
    "#Lets start the Arithmetics in the numpy numpy users call it vectorization (Because we are not using loops here) these operation takes place element wise\n",
    "#we have to use equal arguments because the operation is taking place in the pairs \n",
    "arrr1=np.array([1,2,3,4])\n",
    "arrr2=np.array([5,6,7,8])\n",
    "print(arrr1*arrr2)"
   ]
  },
  {
   "cell_type": "code",
   "execution_count": 39,
   "metadata": {},
   "outputs": [
    {
     "name": "stdout",
     "output_type": "stream",
     "text": [
      "[-4 -4 -4 -4]\n"
     ]
    }
   ],
   "source": [
    "print(arrr1-arrr2)"
   ]
  },
  {
   "cell_type": "code",
   "execution_count": 40,
   "metadata": {},
   "outputs": [
    {
     "name": "stdout",
     "output_type": "stream",
     "text": [
      "[ 6  8 10 12]\n"
     ]
    }
   ],
   "source": [
    "print(arrr1+arrr2)"
   ]
  },
  {
   "cell_type": "code",
   "execution_count": 41,
   "metadata": {},
   "outputs": [
    {
     "name": "stdout",
     "output_type": "stream",
     "text": [
      "[ 5.          3.          2.33333333  2.        ]\n"
     ]
    }
   ],
   "source": [
    "print(arrr2/arrr1)"
   ]
  },
  {
   "cell_type": "code",
   "execution_count": 42,
   "metadata": {},
   "outputs": [
    {
     "name": "stdout",
     "output_type": "stream",
     "text": [
      "[ 1.          0.5         0.33333333  0.25      ]\n"
     ]
    }
   ],
   "source": [
    "print(1/arrr1)"
   ]
  },
  {
   "cell_type": "code",
   "execution_count": 43,
   "metadata": {},
   "outputs": [
    {
     "name": "stdout",
     "output_type": "stream",
     "text": [
      "[ 1  4  9 16]\n"
     ]
    }
   ],
   "source": [
    "print(arrr1**2)"
   ]
  },
  {
   "cell_type": "code",
   "execution_count": 44,
   "metadata": {},
   "outputs": [
    {
     "name": "stdout",
     "output_type": "stream",
     "text": [
      "[ True  True  True  True]\n"
     ]
    }
   ],
   "source": [
    "print(arrr2>arrr1)#it is comparing each element"
   ]
  },
  {
   "cell_type": "code",
   "execution_count": 45,
   "metadata": {},
   "outputs": [
    {
     "name": "stdout",
     "output_type": "stream",
     "text": [
      "[ 1  2  5  2  4  6  8  9 10 11]\n"
     ]
    }
   ],
   "source": [
    "               ##################3#Basic indexing and slicing in the numpy#########################\n",
    "arr6=np.array([1,2,5,2,4,6,8,9,10,11])\n",
    "print(arr6)"
   ]
  },
  {
   "cell_type": "code",
   "execution_count": 46,
   "metadata": {},
   "outputs": [
    {
     "data": {
      "text/plain": [
       "8"
      ]
     },
     "execution_count": 46,
     "metadata": {},
     "output_type": "execute_result"
    }
   ],
   "source": [
    "arr6[6] #we can fetch the perticular element from the array through it  "
   ]
  },
  {
   "cell_type": "code",
   "execution_count": 48,
   "metadata": {},
   "outputs": [
    {
     "name": "stdout",
     "output_type": "stream",
     "text": [
      "[6 8 9]\n"
     ]
    }
   ],
   "source": [
    "arr_slice=arr6[5:8]\n",
    "print(arr_slice)"
   ]
  },
  {
   "cell_type": "code",
   "execution_count": 50,
   "metadata": {},
   "outputs": [
    {
     "name": "stdout",
     "output_type": "stream",
     "text": [
      "[78  8  9]\n"
     ]
    }
   ],
   "source": [
    "arr_slice[0]=78\n",
    "print(arr_slice) #these changes will reflect into the original array also"
   ]
  },
  {
   "cell_type": "code",
   "execution_count": 51,
   "metadata": {},
   "outputs": [
    {
     "name": "stdout",
     "output_type": "stream",
     "text": [
      "[ 1  2  5  2  4 78  8  9 10 11]\n"
     ]
    }
   ],
   "source": [
    "print(arr6)"
   ]
  },
  {
   "cell_type": "code",
   "execution_count": 52,
   "metadata": {},
   "outputs": [
    {
     "name": "stdout",
     "output_type": "stream",
     "text": [
      "[90 90 90]\n"
     ]
    }
   ],
   "source": [
    "#we can use the the bare slicing  to change the all values in the sliced array\n",
    "arr_slice[:]=90\n",
    "print(arr_slice)"
   ]
  },
  {
   "cell_type": "code",
   "execution_count": 53,
   "metadata": {},
   "outputs": [
    {
     "name": "stdout",
     "output_type": "stream",
     "text": [
      "[ 1  2  5  2  4 90 90 90 10 11]\n"
     ]
    }
   ],
   "source": [
    "print(arr6)"
   ]
  },
  {
   "cell_type": "code",
   "execution_count": 54,
   "metadata": {},
   "outputs": [
    {
     "name": "stdout",
     "output_type": "stream",
     "text": [
      "[90 90 90]\n"
     ]
    }
   ],
   "source": [
    "#Now if we do not want to change the original sequence then\n",
    "x=arr6[5:8].copy() # we can use this it is basically our shallow copy\n",
    "print(x)"
   ]
  },
  {
   "cell_type": "code",
   "execution_count": 55,
   "metadata": {},
   "outputs": [],
   "source": [
    "x[1]=0"
   ]
  },
  {
   "cell_type": "code",
   "execution_count": 56,
   "metadata": {},
   "outputs": [
    {
     "name": "stdout",
     "output_type": "stream",
     "text": [
      "[90  0 90]\n",
      "[ 1  2  5  2  4 90 90 90 10 11]\n"
     ]
    }
   ],
   "source": [
    "print(x)\n",
    "print(arr6) #original sequence will not change"
   ]
  },
  {
   "cell_type": "code",
   "execution_count": 57,
   "metadata": {},
   "outputs": [
    {
     "name": "stdout",
     "output_type": "stream",
     "text": [
      "[[1 2 3]\n",
      " [4 5 6]\n",
      " [7 8 9]]\n"
     ]
    }
   ],
   "source": [
    "#for 2d array we can do it like this\n",
    "arr4=np.array([[1,2,3],[4,5,6],[7,8,9]])#it conatins three rows and three columns\n",
    "print(arr4)"
   ]
  },
  {
   "cell_type": "code",
   "execution_count": 58,
   "metadata": {},
   "outputs": [
    {
     "name": "stdout",
     "output_type": "stream",
     "text": [
      "[4 5 6]\n"
     ]
    }
   ],
   "source": [
    "#how we can fetch the data at the specific point\n",
    "print(arr4[1])"
   ]
  },
  {
   "cell_type": "code",
   "execution_count": 59,
   "metadata": {},
   "outputs": [
    {
     "name": "stdout",
     "output_type": "stream",
     "text": [
      "5\n"
     ]
    }
   ],
   "source": [
    "print(arr4[1][1])"
   ]
  },
  {
   "cell_type": "code",
   "execution_count": 61,
   "metadata": {},
   "outputs": [
    {
     "name": "stdout",
     "output_type": "stream",
     "text": [
      "5\n"
     ]
    }
   ],
   "source": [
    "#another style to detch the element mention the row number and column number to fetch it\n",
    "print(arr4[1,1])"
   ]
  },
  {
   "cell_type": "code",
   "execution_count": 63,
   "metadata": {},
   "outputs": [
    {
     "name": "stdout",
     "output_type": "stream",
     "text": [
      "[[[1 2 3]\n",
      "  [4 5 6]\n",
      "  [7 8 9]]]\n"
     ]
    }
   ],
   "source": [
    "#with 3d array\n",
    "arr3d = np.array([[[1,2,3],[4,5,6],[7,8,9]]])\n",
    "print(arr3d)"
   ]
  },
  {
   "cell_type": "code",
   "execution_count": 68,
   "metadata": {},
   "outputs": [
    {
     "data": {
      "text/plain": [
       "6"
      ]
     },
     "execution_count": 68,
     "metadata": {},
     "output_type": "execute_result"
    }
   ],
   "source": [
    "arr3d[0][1][2]"
   ]
  },
  {
   "cell_type": "code",
   "execution_count": 69,
   "metadata": {},
   "outputs": [
    {
     "data": {
      "text/plain": [
       "6"
      ]
     },
     "execution_count": 69,
     "metadata": {},
     "output_type": "execute_result"
    }
   ],
   "source": [
    "#simplified version\n",
    "arr3d[0,1,2]"
   ]
  },
  {
   "cell_type": "code",
   "execution_count": 72,
   "metadata": {},
   "outputs": [
    {
     "name": "stdout",
     "output_type": "stream",
     "text": [
      "[[1, 2, 3] [[4, 5, 6], [7, 8, 9]]]\n"
     ]
    }
   ],
   "source": [
    "arr3d1=np.array([[1,2,3],[[4,5,6],[7,8,9]]])\n",
    "print(arr3d1)"
   ]
  },
  {
   "cell_type": "code",
   "execution_count": 75,
   "metadata": {},
   "outputs": [
    {
     "data": {
      "text/plain": [
       "6"
      ]
     },
     "execution_count": 75,
     "metadata": {},
     "output_type": "execute_result"
    }
   ],
   "source": [
    "arr3d1[1][0][2]"
   ]
  },
  {
   "cell_type": "code",
   "execution_count": 76,
   "metadata": {},
   "outputs": [
    {
     "data": {
      "text/plain": [
       "array([[4, 5, 6],\n",
       "       [7, 8, 9]])"
      ]
     },
     "execution_count": 76,
     "metadata": {},
     "output_type": "execute_result"
    }
   ],
   "source": [
    "                ################Indexes with slices in ndarray##################\n",
    "arr4[1:]"
   ]
  },
  {
   "cell_type": "code",
   "execution_count": 77,
   "metadata": {},
   "outputs": [
    {
     "data": {
      "text/plain": [
       "array([[5, 6],\n",
       "       [8, 9]])"
      ]
     },
     "execution_count": 77,
     "metadata": {},
     "output_type": "execute_result"
    }
   ],
   "source": [
    "arr4[1:,1:]##slicing the elements in the 2d array first slice is for columns and second  is for elements inside it"
   ]
  },
  {
   "cell_type": "code",
   "execution_count": 80,
   "metadata": {},
   "outputs": [
    {
     "data": {
      "text/plain": [
       "array([[2, 3],\n",
       "       [5, 6],\n",
       "       [8, 9]])"
      ]
     },
     "execution_count": 80,
     "metadata": {},
     "output_type": "execute_result"
    }
   ],
   "source": [
    "arr4[:2,1:] #selecting the rows form 0 to 1 and elements inside it from 1 to 2 this is the slicing here"
   ]
  },
  {
   "cell_type": "code",
   "execution_count": 81,
   "metadata": {},
   "outputs": [
    {
     "data": {
      "text/plain": [
       "array([4, 5])"
      ]
     },
     "execution_count": 81,
     "metadata": {},
     "output_type": "execute_result"
    }
   ],
   "source": [
    "arr4[1,:2] #selected first row and last two elements from it"
   ]
  },
  {
   "cell_type": "code",
   "execution_count": 82,
   "metadata": {},
   "outputs": [
    {
     "data": {
      "text/plain": [
       "array([6, 9])"
      ]
     },
     "execution_count": 82,
     "metadata": {},
     "output_type": "execute_result"
    }
   ],
   "source": [
    "arr4[1:,2]"
   ]
  },
  {
   "cell_type": "code",
   "execution_count": 83,
   "metadata": {},
   "outputs": [
    {
     "name": "stdout",
     "output_type": "stream",
     "text": [
      "[[1 2 3]\n",
      " [4 5 1]\n",
      " [7 8 1]]\n"
     ]
    }
   ],
   "source": [
    "arr4[1:,2]=1.2\n",
    "print(arr4)#conatins the same data type all over the region"
   ]
  },
  {
   "cell_type": "code",
   "execution_count": 85,
   "metadata": {},
   "outputs": [
    {
     "name": "stdout",
     "output_type": "stream",
     "text": [
      "[ 1.          1.41421356  1.73205081  2.          7.68114575  3.16227766]\n"
     ]
    }
   ],
   "source": [
    "               ######################Functions in the numpy###########################\n",
    "z=np.array([1,2,3,4,59,10])\n",
    "m=np.sqrt(z)\n",
    "print(m)"
   ]
  },
  {
   "cell_type": "code",
   "execution_count": 86,
   "metadata": {},
   "outputs": [
    {
     "name": "stdout",
     "output_type": "stream",
     "text": [
      "[  2.71828183e+00   7.38905610e+00   2.00855369e+01   5.45981500e+01\n",
      "   4.20121040e+25   2.20264658e+04]\n"
     ]
    }
   ],
   "source": [
    "j=np.exp(z)\n",
    "print(j)"
   ]
  },
  {
   "cell_type": "code",
   "execution_count": 87,
   "metadata": {},
   "outputs": [
    {
     "name": "stdout",
     "output_type": "stream",
     "text": [
      "[ 1  2  3  4 59 10]\n"
     ]
    }
   ],
   "source": [
    "#providing the absolute value of each element\n",
    "print(np.abs(z))"
   ]
  },
  {
   "cell_type": "code",
   "execution_count": 88,
   "metadata": {},
   "outputs": [
    {
     "name": "stdout",
     "output_type": "stream",
     "text": [
      "[   1    4    9   16 3481  100]\n"
     ]
    }
   ],
   "source": [
    "#provding the square of the each element\n",
    "print(np.square(z))"
   ]
  },
  {
   "cell_type": "code",
   "execution_count": 89,
   "metadata": {},
   "outputs": [
    {
     "name": "stdout",
     "output_type": "stream",
     "text": [
      "[ 0.          0.69314718  1.09861229  1.38629436  4.07753744  2.30258509]\n"
     ]
    }
   ],
   "source": [
    "print(np.log(z))"
   ]
  },
  {
   "cell_type": "code",
   "execution_count": 90,
   "metadata": {},
   "outputs": [
    {
     "name": "stdout",
     "output_type": "stream",
     "text": [
      "[ 0.          0.30103     0.47712125  0.60205999  1.77085201  1.        ]\n"
     ]
    }
   ],
   "source": [
    "print(np.log10(z))"
   ]
  },
  {
   "cell_type": "code",
   "execution_count": 91,
   "metadata": {},
   "outputs": [
    {
     "name": "stdout",
     "output_type": "stream",
     "text": [
      "[ 0.          1.          1.5849625   2.          5.88264305  3.32192809]\n"
     ]
    }
   ],
   "source": [
    "print(np.log2(z))"
   ]
  },
  {
   "cell_type": "code",
   "execution_count": 93,
   "metadata": {},
   "outputs": [
    {
     "name": "stdout",
     "output_type": "stream",
     "text": [
      "[ 0.69314718  1.09861229  1.38629436  1.60943791  4.09434456  2.39789527]\n"
     ]
    }
   ],
   "source": [
    "print(np.log1p(z))"
   ]
  },
  {
   "cell_type": "code",
   "execution_count": 95,
   "metadata": {},
   "outputs": [
    {
     "name": "stdout",
     "output_type": "stream",
     "text": [
      "[-1 -1  1  1  1]\n"
     ]
    }
   ],
   "source": [
    "#1 is representing +ve sign -1 is representing negative sign\n",
    "b=[-1,-2,3,4,5]\n",
    "print(np.sign(b))"
   ]
  },
  {
   "cell_type": "code",
   "execution_count": 96,
   "metadata": {},
   "outputs": [
    {
     "name": "stdout",
     "output_type": "stream",
     "text": [
      "[-1. -2.  4.  5.  6.]\n"
     ]
    }
   ],
   "source": [
    "n=[-1.2,-2.2,3.1,4.4,5.5]\n",
    "print(np.ceil(n))"
   ]
  },
  {
   "cell_type": "code",
   "execution_count": 97,
   "metadata": {},
   "outputs": [
    {
     "name": "stdout",
     "output_type": "stream",
     "text": [
      "[-2. -3.  3.  4.  5.]\n"
     ]
    }
   ],
   "source": [
    "print(np.floor(n))"
   ]
  },
  {
   "cell_type": "code",
   "execution_count": 99,
   "metadata": {},
   "outputs": [
    {
     "name": "stdout",
     "output_type": "stream",
     "text": [
      "[-1. -2.  3.  4.  6.]\n",
      "[-1.2, -2.2, 3.1, 4.4, 5.5]\n"
     ]
    }
   ],
   "source": [
    "#round elements to the nearest integer\n",
    "print(np.rint(n))\n",
    "print(n)"
   ]
  },
  {
   "cell_type": "code",
   "execution_count": 101,
   "metadata": {},
   "outputs": [
    {
     "name": "stdout",
     "output_type": "stream",
     "text": [
      "[-0.2 -0.2  0.1  0.4  0.5]\n",
      "[-1. -2.  3.  4.  5.]\n"
     ]
    }
   ],
   "source": [
    "c,k=np.modf(n)\n",
    "print(c)\n",
    "print(k)"
   ]
  },
  {
   "cell_type": "code",
   "execution_count": 106,
   "metadata": {},
   "outputs": [
    {
     "name": "stdout",
     "output_type": "stream",
     "text": [
      "[False False False]\n"
     ]
    }
   ],
   "source": [
    "j=np.array([1,2,3])\n",
    "print(np.isnan(j))"
   ]
  },
  {
   "cell_type": "code",
   "execution_count": 107,
   "metadata": {},
   "outputs": [
    {
     "name": "stdout",
     "output_type": "stream",
     "text": [
      "[ True  True  True  True  True]\n"
     ]
    }
   ],
   "source": [
    "#check the elements they are finite or infinite\n",
    "print(np.isfinite(n))"
   ]
  },
  {
   "cell_type": "code",
   "execution_count": 108,
   "metadata": {},
   "outputs": [
    {
     "name": "stdout",
     "output_type": "stream",
     "text": [
      "[ 0.54030231 -0.41614684 -0.9899925  -0.65364362 -0.77108022 -0.83907153]\n"
     ]
    }
   ],
   "source": [
    "#returning cosine value\n",
    "print(np.cos(z))"
   ]
  },
  {
   "cell_type": "code",
   "execution_count": 109,
   "metadata": {},
   "outputs": [
    {
     "name": "stdout",
     "output_type": "stream",
     "text": [
      "[  1.54308063e+00   3.76219569e+00   1.00676620e+01   2.73082328e+01\n",
      "   2.10060520e+25   1.10132329e+04]\n"
     ]
    }
   ],
   "source": [
    "#returning hyperbolic values\n",
    "print(np.cosh(z))"
   ]
  },
  {
   "cell_type": "code",
   "execution_count": 111,
   "metadata": {},
   "outputs": [
    {
     "name": "stdout",
     "output_type": "stream",
     "text": [
      "[ 3.14159265  0.        ]\n"
     ]
    }
   ],
   "source": [
    "f = np.array([-1,1])\n",
    "print(np.arccos(f))"
   ]
  },
  {
   "cell_type": "code",
   "execution_count": 112,
   "metadata": {},
   "outputs": [
    {
     "name": "stdout",
     "output_type": "stream",
     "text": [
      "[False False False False False False]\n"
     ]
    }
   ],
   "source": [
    "print(np.logical_not(z))"
   ]
  },
  {
   "cell_type": "code",
   "execution_count": 114,
   "metadata": {},
   "outputs": [
    {
     "name": "stdout",
     "output_type": "stream",
     "text": [
      "[  3.4  10.1  13.8  15.9  14.5]\n"
     ]
    }
   ],
   "source": [
    "lq=np.array([1.2,3.4,5.0,6.0,7.0])\n",
    "pq=np.array([2.2,6.7,8.8,9.9,7.5])\n",
    "print(np.add(lq,pq))"
   ]
  },
  {
   "cell_type": "code",
   "execution_count": 115,
   "metadata": {},
   "outputs": [
    {
     "name": "stdout",
     "output_type": "stream",
     "text": [
      "[-1.  -3.3 -3.8 -3.9 -0.5]\n"
     ]
    }
   ],
   "source": [
    "print(np.subtract(lq,pq))"
   ]
  },
  {
   "cell_type": "code",
   "execution_count": 117,
   "metadata": {},
   "outputs": [
    {
     "name": "stdout",
     "output_type": "stream",
     "text": [
      "[  2.64  22.78  44.    59.4   52.5 ]\n"
     ]
    }
   ],
   "source": [
    "print(np.multiply(lq,pq))"
   ]
  },
  {
   "cell_type": "code",
   "execution_count": 118,
   "metadata": {},
   "outputs": [
    {
     "name": "stdout",
     "output_type": "stream",
     "text": [
      "[ 0.54545455  0.50746269  0.56818182  0.60606061  0.93333333]\n"
     ]
    }
   ],
   "source": [
    "#provide the actual value\n",
    "print(np.divide(lq,pq))"
   ]
  },
  {
   "cell_type": "code",
   "execution_count": 119,
   "metadata": {},
   "outputs": [
    {
     "name": "stdout",
     "output_type": "stream",
     "text": [
      "[ 0.  0.  0.  0.  0.]\n"
     ]
    }
   ],
   "source": [
    "#provides the floor value\n",
    "print(np.floor_divide(lq,pq))"
   ]
  },
  {
   "cell_type": "code",
   "execution_count": 120,
   "metadata": {},
   "outputs": [
    {
     "name": "stdout",
     "output_type": "stream",
     "text": [
      "[  1.49347770e+00   3.63838577e+03   1.41558528e+06   5.05472321e+07\n",
      "   2.17888997e+06]\n"
     ]
    }
   ],
   "source": [
    "print(np.power(lq,pq))"
   ]
  },
  {
   "cell_type": "code",
   "execution_count": 122,
   "metadata": {},
   "outputs": [
    {
     "name": "stdout",
     "output_type": "stream",
     "text": [
      "[ 2.2  6.7  8.8  9.9  7.8]\n"
     ]
    }
   ],
   "source": [
    "lq=np.array([1.2,3.4,5.0,6.0,7.8])\n",
    "print(np.maximum(lq,pq))"
   ]
  },
  {
   "cell_type": "code",
   "execution_count": 123,
   "metadata": {},
   "outputs": [
    {
     "name": "stdout",
     "output_type": "stream",
     "text": [
      "[ 2.2  6.7  8.8  9.9  7.8]\n"
     ]
    }
   ],
   "source": [
    "#ignores the NAN (Not a Number)\n",
    "print(np.fmax(lq,pq))"
   ]
  },
  {
   "cell_type": "code",
   "execution_count": 124,
   "metadata": {},
   "outputs": [
    {
     "name": "stdout",
     "output_type": "stream",
     "text": [
      "[ 1.2  3.4  5.   6.   7.5]\n"
     ]
    }
   ],
   "source": [
    "print(np.minimum(lq,pq))"
   ]
  },
  {
   "cell_type": "code",
   "execution_count": 125,
   "metadata": {},
   "outputs": [
    {
     "name": "stdout",
     "output_type": "stream",
     "text": [
      "[-1. -2. -3. -4. -5.]\n"
     ]
    }
   ],
   "source": [
    "#providing the sign of other array to the another array\n",
    "lqw=np.array([1,2,3,4,5])\n",
    "lqe=np.array([-1,-3,-4,-9,-8])\n",
    "print(np.copysign(lqw,lqe))"
   ]
  },
  {
   "cell_type": "code",
   "execution_count": 126,
   "metadata": {},
   "outputs": [
    {
     "name": "stdout",
     "output_type": "stream",
     "text": [
      "[ 0 -1 -1 -5 -3]\n"
     ]
    }
   ],
   "source": [
    "print(np.mod(lqw,lqe))"
   ]
  },
  {
   "cell_type": "code",
   "execution_count": 127,
   "metadata": {},
   "outputs": [
    {
     "name": "stdout",
     "output_type": "stream",
     "text": [
      "[ True  True  True  True  True]\n"
     ]
    }
   ],
   "source": [
    "print(np.greater(lqw,lqe))"
   ]
  },
  {
   "cell_type": "code",
   "execution_count": 129,
   "metadata": {},
   "outputs": [
    {
     "name": "stdout",
     "output_type": "stream",
     "text": [
      "[False False False False  True]\n"
     ]
    }
   ],
   "source": [
    "print(np.greater_equal(lq,pq))"
   ]
  },
  {
   "cell_type": "code",
   "execution_count": 130,
   "metadata": {},
   "outputs": [
    {
     "name": "stdout",
     "output_type": "stream",
     "text": [
      "[False False False False False]\n"
     ]
    }
   ],
   "source": [
    "print(np.equal(lq,pq))"
   ]
  },
  {
   "cell_type": "code",
   "execution_count": 131,
   "metadata": {},
   "outputs": [
    {
     "name": "stdout",
     "output_type": "stream",
     "text": [
      "[ True  True  True  True  True]\n"
     ]
    }
   ],
   "source": [
    "print(np.not_equal(lq,pq))"
   ]
  },
  {
   "cell_type": "code",
   "execution_count": 132,
   "metadata": {},
   "outputs": [
    {
     "name": "stdout",
     "output_type": "stream",
     "text": [
      "[ True  True  True  True  True]\n"
     ]
    }
   ],
   "source": [
    "print(np.logical_or(lq,pq))"
   ]
  },
  {
   "cell_type": "code",
   "execution_count": 133,
   "metadata": {},
   "outputs": [
    {
     "name": "stdout",
     "output_type": "stream",
     "text": [
      "[ True  True  True  True  True]\n"
     ]
    }
   ],
   "source": [
    "print(np.logical_and(lq,pq))"
   ]
  },
  {
   "cell_type": "code",
   "execution_count": 134,
   "metadata": {},
   "outputs": [
    {
     "name": "stdout",
     "output_type": "stream",
     "text": [
      "[False False False False False]\n"
     ]
    }
   ],
   "source": [
    "#logical xor  1 1 = 0 , 0 1 =1, 1 0 = 1, 0 0=1   \n",
    "print(np.logical_xor(lq,pq))"
   ]
  },
  {
   "cell_type": "code",
   "execution_count": null,
   "metadata": {},
   "outputs": [],
   "source": []
  }
 ],
 "metadata": {
  "kernelspec": {
   "display_name": "Python 3",
   "language": "python",
   "name": "python3"
  },
  "language_info": {
   "codemirror_mode": {
    "name": "ipython",
    "version": 3
   },
   "file_extension": ".py",
   "mimetype": "text/x-python",
   "name": "python",
   "nbconvert_exporter": "python",
   "pygments_lexer": "ipython3",
   "version": "3.5.2"
  }
 },
 "nbformat": 4,
 "nbformat_minor": 2
}
