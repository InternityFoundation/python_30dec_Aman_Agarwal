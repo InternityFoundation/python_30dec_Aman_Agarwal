{
 "cells": [
  {
   "cell_type": "code",
   "execution_count": 2,
   "metadata": {},
   "outputs": [],
   "source": [
    "                      ####################Boolean Indexing####################"
   ]
  },
  {
   "cell_type": "code",
   "execution_count": 2,
   "metadata": {},
   "outputs": [
    {
     "name": "stdout",
     "output_type": "stream",
     "text": [
      "[[-0.54331017  1.67309898 -0.94641707  0.74606734]\n",
      " [-0.78335108  0.15751985 -0.62211848  0.20308578]\n",
      " [-0.2172107   0.98706595 -0.98184055 -1.17013036]\n",
      " [-1.5266321  -0.85336676 -0.23269859  0.15248429]\n",
      " [ 0.91951417 -1.33206009 -1.39373123 -1.085376  ]\n",
      " [ 0.16772139  0.27234865  1.37606751  0.73531726]\n",
      " [-1.92364311 -0.30682941 -0.75498053  1.10168771]]\n"
     ]
    }
   ],
   "source": [
    "import numpy as np\n",
    "arr=np.random.randn(7,4)\n",
    "print(arr)\n",
    "names=['Aman','Agarwal','Aman','Ankit','Akshay','Aman','Agarwa']\n",
    "name=np.array(names)"
   ]
  },
  {
   "cell_type": "code",
   "execution_count": 3,
   "metadata": {},
   "outputs": [
    {
     "data": {
      "text/plain": [
       "array([ True, False,  True, False, False,  True, False], dtype=bool)"
      ]
     },
     "execution_count": 3,
     "metadata": {},
     "output_type": "execute_result"
    }
   ],
   "source": [
    "name=='Aman' #The numpy array will make comparision with each entry"
   ]
  },
  {
   "cell_type": "code",
   "execution_count": 4,
   "metadata": {},
   "outputs": [
    {
     "name": "stdout",
     "output_type": "stream",
     "text": [
      "[[-0.54331017  1.67309898 -0.94641707  0.74606734]\n",
      " [-0.2172107   0.98706595 -0.98184055 -1.17013036]\n",
      " [ 0.16772139  0.27234865  1.37606751  0.73531726]]\n"
     ]
    }
   ],
   "source": [
    "print(arr[name=='Aman']) #it will select those entries for which name=='Aman' is true"
   ]
  },
  {
   "cell_type": "code",
   "execution_count": 5,
   "metadata": {},
   "outputs": [
    {
     "name": "stdout",
     "output_type": "stream",
     "text": [
      "[[-0.94641707  0.74606734]\n",
      " [-0.98184055 -1.17013036]\n",
      " [ 1.37606751  0.73531726]]\n"
     ]
    }
   ],
   "source": [
    "print(arr[name=='Aman',2:])#indexing the columns"
   ]
  },
  {
   "cell_type": "code",
   "execution_count": 6,
   "metadata": {},
   "outputs": [],
   "source": [
    "#Now name should not be equal to Aman except this anyname can be present for this we can do it like this"
   ]
  },
  {
   "cell_type": "code",
   "execution_count": 7,
   "metadata": {},
   "outputs": [
    {
     "name": "stdout",
     "output_type": "stream",
     "text": [
      "[[-0.62211848  0.20308578]\n",
      " [-0.23269859  0.15248429]\n",
      " [-1.39373123 -1.085376  ]\n",
      " [-0.75498053  1.10168771]]\n"
     ]
    }
   ],
   "source": [
    "print(arr[name!='Aman',2:])#1st method"
   ]
  },
  {
   "cell_type": "code",
   "execution_count": 8,
   "metadata": {},
   "outputs": [
    {
     "name": "stdout",
     "output_type": "stream",
     "text": [
      "[[-0.62211848  0.20308578]\n",
      " [-0.23269859  0.15248429]\n",
      " [-1.39373123 -1.085376  ]\n",
      " [-0.75498053  1.10168771]]\n"
     ]
    }
   ],
   "source": [
    "print(arr[~(name=='Aman'),2:])#by using tilde operator"
   ]
  },
  {
   "cell_type": "code",
   "execution_count": 9,
   "metadata": {},
   "outputs": [],
   "source": [
    "#we can use & or | opeartor also to combine the two conditions for this we can fo it in this way"
   ]
  },
  {
   "cell_type": "code",
   "execution_count": 10,
   "metadata": {},
   "outputs": [
    {
     "name": "stdout",
     "output_type": "stream",
     "text": [
      "[[-0.54331017  1.67309898 -0.94641707  0.74606734]\n",
      " [-0.78335108  0.15751985 -0.62211848  0.20308578]\n",
      " [-0.2172107   0.98706595 -0.98184055 -1.17013036]\n",
      " [ 0.16772139  0.27234865  1.37606751  0.73531726]]\n"
     ]
    }
   ],
   "source": [
    "print(arr[(name=='Aman')|(name=='Agarwal')])#either of the condition can be true"
   ]
  },
  {
   "cell_type": "code",
   "execution_count": 11,
   "metadata": {},
   "outputs": [
    {
     "name": "stdout",
     "output_type": "stream",
     "text": [
      "[]\n"
     ]
    }
   ],
   "source": [
    "print(arr[(name=='Aman')&(name=='Agarwal')])"
   ]
  },
  {
   "cell_type": "code",
   "execution_count": 12,
   "metadata": {},
   "outputs": [
    {
     "name": "stdout",
     "output_type": "stream",
     "text": [
      "[[ 0.          1.67309898  0.          0.74606734]\n",
      " [ 0.          0.15751985  0.          0.20308578]\n",
      " [ 0.          0.98706595  0.          0.        ]\n",
      " [ 0.          0.          0.          0.15248429]\n",
      " [ 0.91951417  0.          0.          0.        ]\n",
      " [ 0.16772139  0.27234865  1.37606751  0.73531726]\n",
      " [ 0.          0.          0.          1.10168771]]\n"
     ]
    }
   ],
   "source": [
    "arr[arr<0]=0\n",
    "print(arr)"
   ]
  },
  {
   "cell_type": "code",
   "execution_count": 13,
   "metadata": {},
   "outputs": [],
   "source": [
    "arr[name!='Aman']=0"
   ]
  },
  {
   "cell_type": "code",
   "execution_count": 14,
   "metadata": {},
   "outputs": [
    {
     "name": "stdout",
     "output_type": "stream",
     "text": [
      "[[ 0.          1.67309898  0.          0.74606734]\n",
      " [ 0.          0.          0.          0.        ]\n",
      " [ 0.          0.98706595  0.          0.        ]\n",
      " [ 0.          0.          0.          0.        ]\n",
      " [ 0.          0.          0.          0.        ]\n",
      " [ 0.16772139  0.27234865  1.37606751  0.73531726]\n",
      " [ 0.          0.          0.          0.        ]]\n"
     ]
    }
   ],
   "source": [
    "print(arr)"
   ]
  },
  {
   "cell_type": "code",
   "execution_count": 15,
   "metadata": {},
   "outputs": [],
   "source": [
    "                      ####################Fancy Indexing####################"
   ]
  },
  {
   "cell_type": "code",
   "execution_count": 16,
   "metadata": {},
   "outputs": [
    {
     "name": "stdout",
     "output_type": "stream",
     "text": [
      "[[ 0  1  2  3  4]\n",
      " [ 5  6  7  8  9]\n",
      " [10 11 12 13 14]\n",
      " [15 16 17 18 19]\n",
      " [20 21 22 23 24]\n",
      " [25 26 27 28 29]\n",
      " [30 31 32 33 34]\n",
      " [35 36 37 38 39]]\n"
     ]
    }
   ],
   "source": [
    "arr=np.arange(40).reshape(8,5)\n",
    "print(arr)"
   ]
  },
  {
   "cell_type": "code",
   "execution_count": 17,
   "metadata": {},
   "outputs": [
    {
     "data": {
      "text/plain": [
       "array([[20, 21, 22, 23, 24],\n",
       "       [15, 16, 17, 18, 19],\n",
       "       [ 0,  1,  2,  3,  4],\n",
       "       [ 5,  6,  7,  8,  9],\n",
       "       [30, 31, 32, 33, 34]])"
      ]
     },
     "execution_count": 17,
     "metadata": {},
     "output_type": "execute_result"
    }
   ],
   "source": [
    "arr[[4,3,0,1,6]] #firstly 4th one will be select then after this 3rd one then 0th one then 1st one then 6th one will be select"
   ]
  },
  {
   "cell_type": "code",
   "execution_count": 18,
   "metadata": {},
   "outputs": [
    {
     "data": {
      "text/plain": [
       "array([[20, 21, 22, 23, 24],\n",
       "       [25, 26, 27, 28, 29],\n",
       "       [ 0,  1,  2,  3,  4],\n",
       "       [35, 36, 37, 38, 39],\n",
       "       [10, 11, 12, 13, 14]])"
      ]
     },
     "execution_count": 18,
     "metadata": {},
     "output_type": "execute_result"
    }
   ],
   "source": [
    "arr[[-4,-3,0,-1,-6]] #-ve sign indicate from the last because from last indexing is form -1 #it is selecting the one dimensional array corresponding to the each index"
   ]
  },
  {
   "cell_type": "code",
   "execution_count": 19,
   "metadata": {},
   "outputs": [
    {
     "data": {
      "text/plain": [
       "array([39, 27,  1, 38, 12])"
      ]
     },
     "execution_count": 19,
     "metadata": {},
     "output_type": "execute_result"
    }
   ],
   "source": [
    "arr[[-1,-3,0,-1,-6],[4,2,1,3,2]] #it will result the one dimensional array it will create the tuple like (-1,4),(-3,2) and so on"
   ]
  },
  {
   "cell_type": "code",
   "execution_count": 20,
   "metadata": {},
   "outputs": [
    {
     "data": {
      "text/plain": [
       "array([[39, 37, 36, 38, 37],\n",
       "       [29, 27, 26, 28, 27],\n",
       "       [ 4,  2,  1,  3,  2],\n",
       "       [39, 37, 36, 38, 37],\n",
       "       [14, 12, 11, 13, 12]])"
      ]
     },
     "execution_count": 20,
     "metadata": {},
     "output_type": "execute_result"
    }
   ],
   "source": [
    "#Now by applying it we can also get 2d array like this we can apply these functions\n",
    "arr[[-1,-3,0,-1,-6]][:,[4,2,1,3,2]] #it will make the tuples like (-1,4),(-1,2),(-1,1),(-1,3),(-1,2) and so on..."
   ]
  },
  {
   "cell_type": "code",
   "execution_count": 21,
   "metadata": {},
   "outputs": [
    {
     "data": {
      "text/plain": [
       "array([[35, 36],\n",
       "       [25, 26],\n",
       "       [ 0,  1],\n",
       "       [35, 36],\n",
       "       [10, 11]])"
      ]
     },
     "execution_count": 21,
     "metadata": {},
     "output_type": "execute_result"
    }
   ],
   "source": [
    "arr[[-1,-3,0,-1,-6],:2] #slicing the number of rows only publishing the rows from 0 to 1."
   ]
  },
  {
   "cell_type": "code",
   "execution_count": 22,
   "metadata": {},
   "outputs": [],
   "source": [
    "                ####################Transposing Arrays and Swapping Axes#####################"
   ]
  },
  {
   "cell_type": "code",
   "execution_count": 23,
   "metadata": {},
   "outputs": [
    {
     "name": "stdout",
     "output_type": "stream",
     "text": [
      "[[97  5 10 15 20 25 30 35]\n",
      " [ 1  6 11 16 21 26 31 36]\n",
      " [ 2  7 12 17 22 27 32 37]\n",
      " [ 3  8 13 18 23 28 33 38]\n",
      " [ 4  9 14 19 24 29 34 39]]\n"
     ]
    }
   ],
   "source": [
    "x=arr.T #it will provide the transpose of the Array it will be a copy \n",
    "x[0][0]=97\n",
    "print(x)"
   ]
  },
  {
   "cell_type": "code",
   "execution_count": 24,
   "metadata": {},
   "outputs": [
    {
     "name": "stdout",
     "output_type": "stream",
     "text": [
      "[[97  1  2  3  4]\n",
      " [ 5  6  7  8  9]\n",
      " [10 11 12 13 14]\n",
      " [15 16 17 18 19]\n",
      " [20 21 22 23 24]\n",
      " [25 26 27 28 29]\n",
      " [30 31 32 33 34]\n",
      " [35 36 37 38 39]]\n"
     ]
    }
   ],
   "source": [
    "print(arr) #if we change the elements in the transpose those changes will reflect into the orginial array "
   ]
  },
  {
   "cell_type": "code",
   "execution_count": 25,
   "metadata": {},
   "outputs": [
    {
     "name": "stdout",
     "output_type": "stream",
     "text": [
      "[[[ 0  1  2  3]\n",
      "  [ 4  5  6  7]]\n",
      "\n",
      " [[ 8  9 10 11]\n",
      "  [12 13 14 15]]]\n"
     ]
    }
   ],
   "source": [
    "arr1= np.arange(16).reshape((2, 2, 4)) #the dimension is depending how many argumnents we are passing in the reashape function\n",
    "print(arr1)"
   ]
  },
  {
   "cell_type": "code",
   "execution_count": 26,
   "metadata": {},
   "outputs": [
    {
     "data": {
      "text/plain": [
       "array([[[ 0,  1,  2,  3],\n",
       "        [ 8,  9, 10, 11]],\n",
       "\n",
       "       [[ 4,  5,  6,  7],\n",
       "        [12, 13, 14, 15]]])"
      ]
     },
     "execution_count": 26,
     "metadata": {},
     "output_type": "execute_result"
    }
   ],
   "source": [
    "#.transpose() function \n",
    "arr1.transpose((1,0,2))"
   ]
  },
  {
   "cell_type": "code",
   "execution_count": 27,
   "metadata": {},
   "outputs": [
    {
     "data": {
      "text/plain": [
       "array([[[ 0,  1,  2,  3],\n",
       "        [ 4,  5,  6,  7]],\n",
       "\n",
       "       [[ 8,  9, 10, 11],\n",
       "        [12, 13, 14, 15]]])"
      ]
     },
     "execution_count": 27,
     "metadata": {},
     "output_type": "execute_result"
    }
   ],
   "source": [
    "arr1.transpose((0,1,2))"
   ]
  },
  {
   "cell_type": "code",
   "execution_count": 28,
   "metadata": {},
   "outputs": [
    {
     "data": {
      "text/plain": [
       "array([[[ 0,  8],\n",
       "        [ 4, 12]],\n",
       "\n",
       "       [[ 1,  9],\n",
       "        [ 5, 13]],\n",
       "\n",
       "       [[ 2, 10],\n",
       "        [ 6, 14]],\n",
       "\n",
       "       [[ 3, 11],\n",
       "        [ 7, 15]]])"
      ]
     },
     "execution_count": 28,
     "metadata": {},
     "output_type": "execute_result"
    }
   ],
   "source": [
    "arr1.transpose(2,1,0)"
   ]
  },
  {
   "cell_type": "code",
   "execution_count": 29,
   "metadata": {},
   "outputs": [],
   "source": [
    "y = np.array([[[0,1],[2,3]],[[4,5],[6,7]]])"
   ]
  },
  {
   "cell_type": "code",
   "execution_count": 30,
   "metadata": {},
   "outputs": [
    {
     "data": {
      "text/plain": [
       "array([[[0, 4],\n",
       "        [2, 6]],\n",
       "\n",
       "       [[1, 5],\n",
       "        [3, 7]]])"
      ]
     },
     "execution_count": 30,
     "metadata": {},
     "output_type": "execute_result"
    }
   ],
   "source": [
    "np.swapaxes(y,0,2)"
   ]
  },
  {
   "cell_type": "code",
   "execution_count": 31,
   "metadata": {},
   "outputs": [
    {
     "data": {
      "text/plain": [
       "array([[[0, 2],\n",
       "        [1, 3]],\n",
       "\n",
       "       [[4, 6],\n",
       "        [5, 7]]])"
      ]
     },
     "execution_count": 31,
     "metadata": {},
     "output_type": "execute_result"
    }
   ],
   "source": [
    "np.swapaxes(y,1,2)"
   ]
  },
  {
   "cell_type": "code",
   "execution_count": 32,
   "metadata": {},
   "outputs": [
    {
     "data": {
      "text/plain": [
       "array([[[ 0,  4],\n",
       "        [ 1,  5],\n",
       "        [ 2,  6],\n",
       "        [ 3,  7]],\n",
       "\n",
       "       [[ 8, 12],\n",
       "        [ 9, 13],\n",
       "        [10, 14],\n",
       "        [11, 15]]])"
      ]
     },
     "execution_count": 32,
     "metadata": {},
     "output_type": "execute_result"
    }
   ],
   "source": [
    "arr1.swapaxes(1,2)"
   ]
  },
  {
   "cell_type": "code",
   "execution_count": 33,
   "metadata": {},
   "outputs": [
    {
     "data": {
      "text/plain": [
       "array([[[ 0,  8],\n",
       "        [ 4, 12]],\n",
       "\n",
       "       [[ 1,  9],\n",
       "        [ 5, 13]],\n",
       "\n",
       "       [[ 2, 10],\n",
       "        [ 6, 14]],\n",
       "\n",
       "       [[ 3, 11],\n",
       "        [ 7, 15]]])"
      ]
     },
     "execution_count": 33,
     "metadata": {},
     "output_type": "execute_result"
    }
   ],
   "source": [
    "arr1.swapaxes(0,2)"
   ]
  },
  {
   "cell_type": "code",
   "execution_count": 34,
   "metadata": {},
   "outputs": [],
   "source": [
    "           ######################Universal Functions: Fast Element-Wise Array Functions########################"
   ]
  },
  {
   "cell_type": "code",
   "execution_count": 35,
   "metadata": {},
   "outputs": [
    {
     "name": "stdout",
     "output_type": "stream",
     "text": [
      "[ 1.          1.41421356  1.73205081  2.          7.68114575  3.16227766]\n"
     ]
    }
   ],
   "source": [
    "z=np.array([1,2,3,4,59,10])\n",
    "m=np.sqrt(z)\n",
    "print(m)"
   ]
  },
  {
   "cell_type": "code",
   "execution_count": 36,
   "metadata": {},
   "outputs": [
    {
     "name": "stdout",
     "output_type": "stream",
     "text": [
      "[  2.71828183e+00   7.38905610e+00   2.00855369e+01   5.45981500e+01\n",
      "   4.20121040e+25   2.20264658e+04]\n"
     ]
    }
   ],
   "source": [
    "j=np.exp(z)\n",
    "print(j)"
   ]
  },
  {
   "cell_type": "code",
   "execution_count": 37,
   "metadata": {},
   "outputs": [
    {
     "name": "stdout",
     "output_type": "stream",
     "text": [
      "[ 1  2  3  4 59 10]\n"
     ]
    }
   ],
   "source": [
    "#providing the absolute value of each element\n",
    "print(np.abs(z))"
   ]
  },
  {
   "cell_type": "code",
   "execution_count": 38,
   "metadata": {},
   "outputs": [
    {
     "name": "stdout",
     "output_type": "stream",
     "text": [
      "[   1    4    9   16 3481  100]\n"
     ]
    }
   ],
   "source": [
    "#provding the square of the each element\n",
    "print(np.square(z))"
   ]
  },
  {
   "cell_type": "code",
   "execution_count": 39,
   "metadata": {},
   "outputs": [
    {
     "name": "stdout",
     "output_type": "stream",
     "text": [
      "[ 0.          0.69314718  1.09861229  1.38629436  4.07753744  2.30258509]\n"
     ]
    }
   ],
   "source": [
    "print(np.log(z))"
   ]
  },
  {
   "cell_type": "code",
   "execution_count": 40,
   "metadata": {},
   "outputs": [
    {
     "name": "stdout",
     "output_type": "stream",
     "text": [
      "[ 0.          0.30103     0.47712125  0.60205999  1.77085201  1.        ]\n"
     ]
    }
   ],
   "source": [
    "print(np.log10(z))"
   ]
  },
  {
   "cell_type": "code",
   "execution_count": 41,
   "metadata": {},
   "outputs": [
    {
     "name": "stdout",
     "output_type": "stream",
     "text": [
      "[ 0.          1.          1.5849625   2.          5.88264305  3.32192809]\n"
     ]
    }
   ],
   "source": [
    "print(np.log2(z))"
   ]
  },
  {
   "cell_type": "code",
   "execution_count": 42,
   "metadata": {},
   "outputs": [
    {
     "name": "stdout",
     "output_type": "stream",
     "text": [
      "[ 0.69314718  1.09861229  1.38629436  1.60943791  4.09434456  2.39789527]\n"
     ]
    }
   ],
   "source": [
    "print(np.log1p(z))"
   ]
  },
  {
   "cell_type": "code",
   "execution_count": 43,
   "metadata": {},
   "outputs": [
    {
     "name": "stdout",
     "output_type": "stream",
     "text": [
      "[-1 -1  1  1  1]\n"
     ]
    }
   ],
   "source": [
    "#1 is representing +ve sign -1 is representing negative sign\n",
    "b=[-1,-2,3,4,5]\n",
    "print(np.sign(b))"
   ]
  },
  {
   "cell_type": "code",
   "execution_count": 44,
   "metadata": {},
   "outputs": [
    {
     "name": "stdout",
     "output_type": "stream",
     "text": [
      "[-1. -2.  4.  5.  6.]\n"
     ]
    }
   ],
   "source": [
    "n=[-1.2,-2.2,3.1,4.4,5.5]\n",
    "print(np.ceil(n))"
   ]
  },
  {
   "cell_type": "code",
   "execution_count": 45,
   "metadata": {},
   "outputs": [
    {
     "name": "stdout",
     "output_type": "stream",
     "text": [
      "[-2. -3.  3.  4.  5.]\n"
     ]
    }
   ],
   "source": [
    "print(np.floor(n))"
   ]
  },
  {
   "cell_type": "code",
   "execution_count": 46,
   "metadata": {},
   "outputs": [
    {
     "name": "stdout",
     "output_type": "stream",
     "text": [
      "[-1. -2.  3.  4.  6.]\n",
      "[-1.2, -2.2, 3.1, 4.4, 5.5]\n"
     ]
    }
   ],
   "source": [
    "#round elements to the nearest integer\n",
    "print(np.rint(n))\n",
    "print(n)"
   ]
  },
  {
   "cell_type": "code",
   "execution_count": 47,
   "metadata": {},
   "outputs": [
    {
     "name": "stdout",
     "output_type": "stream",
     "text": [
      "[-0.2 -0.2  0.1  0.4  0.5]\n",
      "[-1. -2.  3.  4.  5.]\n"
     ]
    }
   ],
   "source": [
    "c,k=np.modf(n)\n",
    "print(c)\n",
    "print(k)"
   ]
  },
  {
   "cell_type": "code",
   "execution_count": 48,
   "metadata": {},
   "outputs": [
    {
     "name": "stdout",
     "output_type": "stream",
     "text": [
      "[False False False]\n"
     ]
    }
   ],
   "source": [
    "j=np.array([1,2,3])\n",
    "print(np.isnan(j))"
   ]
  },
  {
   "cell_type": "code",
   "execution_count": 49,
   "metadata": {},
   "outputs": [
    {
     "name": "stdout",
     "output_type": "stream",
     "text": [
      "[ True  True  True  True  True]\n"
     ]
    }
   ],
   "source": [
    "#check the elements they are finite or infinite\n",
    "print(np.isfinite(n))"
   ]
  },
  {
   "cell_type": "code",
   "execution_count": 50,
   "metadata": {},
   "outputs": [
    {
     "name": "stdout",
     "output_type": "stream",
     "text": [
      "[ 0.54030231 -0.41614684 -0.9899925  -0.65364362 -0.77108022 -0.83907153]\n"
     ]
    }
   ],
   "source": [
    "#returning cosine value\n",
    "print(np.cos(z))"
   ]
  },
  {
   "cell_type": "code",
   "execution_count": 51,
   "metadata": {},
   "outputs": [
    {
     "name": "stdout",
     "output_type": "stream",
     "text": [
      "[  1.54308063e+00   3.76219569e+00   1.00676620e+01   2.73082328e+01\n",
      "   2.10060520e+25   1.10132329e+04]\n"
     ]
    }
   ],
   "source": [
    "#returning hyperbolic values\n",
    "print(np.cosh(z))"
   ]
  },
  {
   "cell_type": "code",
   "execution_count": 52,
   "metadata": {},
   "outputs": [
    {
     "name": "stdout",
     "output_type": "stream",
     "text": [
      "[ 3.14159265  0.        ]\n"
     ]
    }
   ],
   "source": [
    "f = np.array([-1,1])\n",
    "print(np.arccos(f))"
   ]
  },
  {
   "cell_type": "code",
   "execution_count": 53,
   "metadata": {},
   "outputs": [
    {
     "name": "stdout",
     "output_type": "stream",
     "text": [
      "[False False False False False False]\n"
     ]
    }
   ],
   "source": [
    "print(np.logical_not(z))"
   ]
  },
  {
   "cell_type": "code",
   "execution_count": 54,
   "metadata": {},
   "outputs": [
    {
     "name": "stdout",
     "output_type": "stream",
     "text": [
      "[  3.4  10.1  13.8  15.9  14.5]\n"
     ]
    }
   ],
   "source": [
    "lq=np.array([1.2,3.4,5.0,6.0,7.0])\n",
    "pq=np.array([2.2,6.7,8.8,9.9,7.5])\n",
    "print(np.add(lq,pq))"
   ]
  },
  {
   "cell_type": "code",
   "execution_count": 55,
   "metadata": {},
   "outputs": [
    {
     "name": "stdout",
     "output_type": "stream",
     "text": [
      "[-1.  -3.3 -3.8 -3.9 -0.5]\n"
     ]
    }
   ],
   "source": [
    "print(np.subtract(lq,pq))"
   ]
  },
  {
   "cell_type": "code",
   "execution_count": 56,
   "metadata": {},
   "outputs": [
    {
     "name": "stdout",
     "output_type": "stream",
     "text": [
      "[  2.64  22.78  44.    59.4   52.5 ]\n"
     ]
    }
   ],
   "source": [
    "print(np.multiply(lq,pq))"
   ]
  },
  {
   "cell_type": "code",
   "execution_count": 57,
   "metadata": {},
   "outputs": [
    {
     "name": "stdout",
     "output_type": "stream",
     "text": [
      "[ 0.54545455  0.50746269  0.56818182  0.60606061  0.93333333]\n"
     ]
    }
   ],
   "source": [
    "#provide the actual value\n",
    "print(np.divide(lq,pq))"
   ]
  },
  {
   "cell_type": "code",
   "execution_count": 58,
   "metadata": {},
   "outputs": [
    {
     "name": "stdout",
     "output_type": "stream",
     "text": [
      "[ 0.  0.  0.  0.  0.]\n"
     ]
    }
   ],
   "source": [
    "#provides the floor value\n",
    "print(np.floor_divide(lq,pq))"
   ]
  },
  {
   "cell_type": "code",
   "execution_count": 59,
   "metadata": {},
   "outputs": [
    {
     "name": "stdout",
     "output_type": "stream",
     "text": [
      "[  1.49347770e+00   3.63838577e+03   1.41558528e+06   5.05472321e+07\n",
      "   2.17888997e+06]\n"
     ]
    }
   ],
   "source": [
    "print(np.power(lq,pq))"
   ]
  },
  {
   "cell_type": "code",
   "execution_count": 60,
   "metadata": {},
   "outputs": [
    {
     "name": "stdout",
     "output_type": "stream",
     "text": [
      "[ 2.2  6.7  8.8  9.9  7.8]\n"
     ]
    }
   ],
   "source": [
    "lq=np.array([1.2,3.4,5.0,6.0,7.8])\n",
    "print(np.maximum(lq,pq))"
   ]
  },
  {
   "cell_type": "code",
   "execution_count": 61,
   "metadata": {},
   "outputs": [
    {
     "name": "stdout",
     "output_type": "stream",
     "text": [
      "[ 2.2  6.7  8.8  9.9  7.8]\n"
     ]
    }
   ],
   "source": [
    "#ignores the NAN (Not a Number)\n",
    "print(np.fmax(lq,pq))"
   ]
  },
  {
   "cell_type": "code",
   "execution_count": 62,
   "metadata": {},
   "outputs": [
    {
     "name": "stdout",
     "output_type": "stream",
     "text": [
      "[ 1.2  3.4  5.   6.   7.5]\n"
     ]
    }
   ],
   "source": [
    "print(np.minimum(lq,pq))"
   ]
  },
  {
   "cell_type": "code",
   "execution_count": 63,
   "metadata": {},
   "outputs": [
    {
     "name": "stdout",
     "output_type": "stream",
     "text": [
      "[-1. -2. -3. -4. -5.]\n"
     ]
    }
   ],
   "source": [
    "#providing the sign of other array to the another array\n",
    "lqw=np.array([1,2,3,4,5])\n",
    "lqe=np.array([-1,-3,-4,-9,-8])\n",
    "print(np.copysign(lqw,lqe))"
   ]
  },
  {
   "cell_type": "code",
   "execution_count": 64,
   "metadata": {},
   "outputs": [
    {
     "name": "stdout",
     "output_type": "stream",
     "text": [
      "[ 0 -1 -1 -5 -3]\n"
     ]
    }
   ],
   "source": [
    "print(np.mod(lqw,lqe))"
   ]
  },
  {
   "cell_type": "code",
   "execution_count": 65,
   "metadata": {},
   "outputs": [
    {
     "name": "stdout",
     "output_type": "stream",
     "text": [
      "[ True  True  True  True  True]\n"
     ]
    }
   ],
   "source": [
    "print(np.greater(lqw,lqe))"
   ]
  },
  {
   "cell_type": "code",
   "execution_count": 66,
   "metadata": {},
   "outputs": [
    {
     "name": "stdout",
     "output_type": "stream",
     "text": [
      "[False False False False  True]\n"
     ]
    }
   ],
   "source": [
    "print(np.greater_equal(lq,pq))"
   ]
  },
  {
   "cell_type": "code",
   "execution_count": 67,
   "metadata": {},
   "outputs": [
    {
     "name": "stdout",
     "output_type": "stream",
     "text": [
      "[False False False False False]\n"
     ]
    }
   ],
   "source": [
    "print(np.equal(lq,pq))"
   ]
  },
  {
   "cell_type": "code",
   "execution_count": 68,
   "metadata": {},
   "outputs": [
    {
     "name": "stdout",
     "output_type": "stream",
     "text": [
      "[ True  True  True  True  True]\n"
     ]
    }
   ],
   "source": [
    "print(np.not_equal(lq,pq))"
   ]
  },
  {
   "cell_type": "code",
   "execution_count": 69,
   "metadata": {},
   "outputs": [
    {
     "name": "stdout",
     "output_type": "stream",
     "text": [
      "[ True  True  True  True  True]\n"
     ]
    }
   ],
   "source": [
    "print(np.logical_or(lq,pq))"
   ]
  },
  {
   "cell_type": "code",
   "execution_count": 70,
   "metadata": {},
   "outputs": [
    {
     "name": "stdout",
     "output_type": "stream",
     "text": [
      "[ True  True  True  True  True]\n"
     ]
    }
   ],
   "source": [
    "print(np.logical_and(lq,pq))"
   ]
  },
  {
   "cell_type": "code",
   "execution_count": 71,
   "metadata": {},
   "outputs": [
    {
     "name": "stdout",
     "output_type": "stream",
     "text": [
      "[False False False False False]\n"
     ]
    }
   ],
   "source": [
    "#logical xor  1 1 = 0 , 0 1 =1, 1 0 = 1, 0 0=1   \n",
    "print(np.logical_xor(lq,pq))"
   ]
  },
  {
   "cell_type": "code",
   "execution_count": 72,
   "metadata": {},
   "outputs": [],
   "source": [
    "            ##############################Array-Oriented Programming with Arrays#####################################"
   ]
  },
  {
   "cell_type": "code",
   "execution_count": 73,
   "metadata": {},
   "outputs": [
    {
     "name": "stdout",
     "output_type": "stream",
     "text": [
      "[  5.    5.1   5.2   5.3   5.4   5.5   5.6   5.7   5.8   5.9   6.    6.1\n",
      "   6.2   6.3   6.4   6.5   6.6   6.7   6.8   6.9   7.    7.1   7.2   7.3\n",
      "   7.4   7.5   7.6   7.7   7.8   7.9   8.    8.1   8.2   8.3   8.4   8.5\n",
      "   8.6   8.7   8.8   8.9   9.    9.1   9.2   9.3   9.4   9.5   9.6   9.7\n",
      "   9.8   9.9  10.   10.1  10.2  10.3  10.4  10.5  10.6  10.7  10.8  10.9\n",
      "  11.   11.1  11.2  11.3  11.4  11.5  11.6  11.7  11.8  11.9  12.   12.1\n",
      "  12.2  12.3  12.4  12.5  12.6  12.7  12.8  12.9  13.   13.1  13.2  13.3\n",
      "  13.4  13.5  13.6  13.7  13.8  13.9  14.   14.1  14.2  14.3  14.4  14.5\n",
      "  14.6  14.7  14.8  14.9  15.   15.1  15.2  15.3  15.4  15.5  15.6  15.7\n",
      "  15.8  15.9  16.   16.1  16.2  16.3  16.4  16.5  16.6  16.7  16.8  16.9\n",
      "  17.   17.1  17.2  17.3  17.4  17.5  17.6  17.7  17.8  17.9  18.   18.1\n",
      "  18.2  18.3  18.4  18.5  18.6  18.7  18.8  18.9  19.   19.1  19.2  19.3\n",
      "  19.4  19.5  19.6  19.7  19.8  19.9]\n"
     ]
    }
   ],
   "source": [
    "p=np.arange(5,20,0.1)\n",
    "print(p)"
   ]
  },
  {
   "cell_type": "code",
   "execution_count": 74,
   "metadata": {},
   "outputs": [],
   "source": [
    "x,y=np.meshgrid(p,p)"
   ]
  },
  {
   "cell_type": "code",
   "execution_count": 75,
   "metadata": {},
   "outputs": [
    {
     "name": "stdout",
     "output_type": "stream",
     "text": [
      "[[  5.    5.1   5.2 ...,  19.7  19.8  19.9]\n",
      " [  5.    5.1   5.2 ...,  19.7  19.8  19.9]\n",
      " [  5.    5.1   5.2 ...,  19.7  19.8  19.9]\n",
      " ..., \n",
      " [  5.    5.1   5.2 ...,  19.7  19.8  19.9]\n",
      " [  5.    5.1   5.2 ...,  19.7  19.8  19.9]\n",
      " [  5.    5.1   5.2 ...,  19.7  19.8  19.9]]\n"
     ]
    }
   ],
   "source": [
    "print(x)"
   ]
  },
  {
   "cell_type": "code",
   "execution_count": 76,
   "metadata": {},
   "outputs": [
    {
     "name": "stdout",
     "output_type": "stream",
     "text": [
      "[[  7.07106781   7.14212853   7.21387552 ...,  20.32461562  20.42155724\n",
      "   20.51852821]\n",
      " [  7.14212853   7.21248917   7.28354309 ...,  20.34944717  20.44627105\n",
      "   20.54312537]\n",
      " [  7.21387552   7.28354309   7.35391052 ...,  20.37473926  20.47144353\n",
      "   20.56817931]\n",
      " ..., \n",
      " [ 20.32461562  20.34944717  20.37473926 ...,  27.86000718  27.93080736\n",
      "   28.00178566]\n",
      " [ 20.42155724  20.44627105  20.47144353 ...,  27.93080736  28.00142853\n",
      "   28.07222827]\n",
      " [ 20.51852821  20.54312537  20.56817931 ...,  28.00178566  28.07222827\n",
      "   28.14284989]]\n"
     ]
    }
   ],
   "source": [
    "print(np.sqrt(x**2 + y**2))  #here we are using x and y as a point we can not do this thing into the normal sqrt function we can evaluate this thing with the help of loop also but we don't want to proivde headache to our mind  "
   ]
  },
  {
   "cell_type": "code",
   "execution_count": 77,
   "metadata": {},
   "outputs": [],
   "source": [
    "          ########################Expressing Conditional Logic as Array Operations#########################"
   ]
  },
  {
   "cell_type": "code",
   "execution_count": 78,
   "metadata": {},
   "outputs": [
    {
     "name": "stdout",
     "output_type": "stream",
     "text": [
      "[1, 2, 3, 4, 9, 10]\n"
     ]
    }
   ],
   "source": [
    "x=[1,2,3,4,5,6]\n",
    "y=[1,2,7,8,9,10]\n",
    "co=[True,False,True,True,False,False]\n",
    "result=[(xi if c else yi) for xi,yi,c in zip(x,y,co)]\n",
    "print(result)"
   ]
  },
  {
   "cell_type": "code",
   "execution_count": 79,
   "metadata": {},
   "outputs": [
    {
     "name": "stdout",
     "output_type": "stream",
     "text": [
      "[ 1  2  3  4  9 10]\n"
     ]
    }
   ],
   "source": [
    "#we can use the .where function besides this because upper function is taking too much time\n",
    "result=np.where(co,x,y)\n",
    "print(result)"
   ]
  },
  {
   "cell_type": "code",
   "execution_count": 80,
   "metadata": {},
   "outputs": [
    {
     "data": {
      "text/plain": [
       "array([-4, -4,  3,  3,  3,  3])"
      ]
     },
     "execution_count": 80,
     "metadata": {},
     "output_type": "execute_result"
    }
   ],
   "source": [
    "np.where(result>2,3,-4)#if result is greater than 2 then select 3 otherwise select -4"
   ]
  },
  {
   "cell_type": "code",
   "execution_count": 81,
   "metadata": {},
   "outputs": [
    {
     "name": "stdout",
     "output_type": "stream",
     "text": [
      "[[1 2 3]\n",
      " [4 5 6]\n",
      " [7 8 9]]\n"
     ]
    }
   ],
   "source": [
    "n=np.array([[1,2,3],[4,5,6],[7,8,9]])\n",
    "print(n)"
   ]
  },
  {
   "cell_type": "code",
   "execution_count": 82,
   "metadata": {},
   "outputs": [
    {
     "data": {
      "text/plain": [
       "45"
      ]
     },
     "execution_count": 82,
     "metadata": {},
     "output_type": "execute_result"
    }
   ],
   "source": [
    "np.sum(n)"
   ]
  },
  {
   "cell_type": "code",
   "execution_count": 83,
   "metadata": {},
   "outputs": [
    {
     "data": {
      "text/plain": [
       "array([12, 15, 18])"
      ]
     },
     "execution_count": 83,
     "metadata": {},
     "output_type": "execute_result"
    }
   ],
   "source": [
    "np.sum(n,axis=0)#along the axis 0 row wise"
   ]
  },
  {
   "cell_type": "code",
   "execution_count": 84,
   "metadata": {},
   "outputs": [
    {
     "data": {
      "text/plain": [
       "5.0"
      ]
     },
     "execution_count": 84,
     "metadata": {},
     "output_type": "execute_result"
    }
   ],
   "source": [
    "np.mean(n)"
   ]
  },
  {
   "cell_type": "code",
   "execution_count": 85,
   "metadata": {},
   "outputs": [
    {
     "data": {
      "text/plain": [
       "array([ 2.,  5.,  8.])"
      ]
     },
     "execution_count": 85,
     "metadata": {},
     "output_type": "execute_result"
    }
   ],
   "source": [
    "np.mean(n,axis=1)"
   ]
  },
  {
   "cell_type": "code",
   "execution_count": 86,
   "metadata": {},
   "outputs": [
    {
     "data": {
      "text/plain": [
       "2.5819888974716112"
      ]
     },
     "execution_count": 86,
     "metadata": {},
     "output_type": "execute_result"
    }
   ],
   "source": [
    "np.std(n)#standard deviation"
   ]
  },
  {
   "cell_type": "code",
   "execution_count": 87,
   "metadata": {},
   "outputs": [
    {
     "data": {
      "text/plain": [
       "6.666666666666667"
      ]
     },
     "execution_count": 87,
     "metadata": {},
     "output_type": "execute_result"
    }
   ],
   "source": [
    "np.var(n)#variation"
   ]
  },
  {
   "cell_type": "code",
   "execution_count": 88,
   "metadata": {},
   "outputs": [
    {
     "data": {
      "text/plain": [
       "1"
      ]
     },
     "execution_count": 88,
     "metadata": {},
     "output_type": "execute_result"
    }
   ],
   "source": [
    "np.min(n)"
   ]
  },
  {
   "cell_type": "code",
   "execution_count": 89,
   "metadata": {},
   "outputs": [
    {
     "data": {
      "text/plain": [
       "9"
      ]
     },
     "execution_count": 89,
     "metadata": {},
     "output_type": "execute_result"
    }
   ],
   "source": [
    "np.max(n) #maximum element from the array"
   ]
  },
  {
   "cell_type": "code",
   "execution_count": 90,
   "metadata": {},
   "outputs": [
    {
     "data": {
      "text/plain": [
       "0"
      ]
     },
     "execution_count": 90,
     "metadata": {},
     "output_type": "execute_result"
    }
   ],
   "source": [
    "np.argmin(n) #indicies of minimum element"
   ]
  },
  {
   "cell_type": "code",
   "execution_count": 91,
   "metadata": {},
   "outputs": [
    {
     "data": {
      "text/plain": [
       "8"
      ]
     },
     "execution_count": 91,
     "metadata": {},
     "output_type": "execute_result"
    }
   ],
   "source": [
    "np.argmax(n)#indices of maximum element"
   ]
  },
  {
   "cell_type": "code",
   "execution_count": 92,
   "metadata": {},
   "outputs": [
    {
     "data": {
      "text/plain": [
       "array([ 1,  3,  6, 10, 15, 21, 28, 36, 45])"
      ]
     },
     "execution_count": 92,
     "metadata": {},
     "output_type": "execute_result"
    }
   ],
   "source": [
    "np.cumsum(n)"
   ]
  },
  {
   "cell_type": "code",
   "execution_count": 93,
   "metadata": {},
   "outputs": [
    {
     "data": {
      "text/plain": [
       "array([     1,      2,      6,     24,    120,    720,   5040,  40320,\n",
       "       362880])"
      ]
     },
     "execution_count": 93,
     "metadata": {},
     "output_type": "execute_result"
    }
   ],
   "source": [
    "np.cumprod(n)#commulative product"
   ]
  },
  {
   "cell_type": "code",
   "execution_count": 94,
   "metadata": {},
   "outputs": [],
   "source": [
    "          ##########################Methods for Boolean Arrays####################"
   ]
  },
  {
   "cell_type": "code",
   "execution_count": 95,
   "metadata": {},
   "outputs": [],
   "source": [
    "boolean=[True,False,True,False,True]\n",
    "c=np.array(boolean)"
   ]
  },
  {
   "cell_type": "code",
   "execution_count": 96,
   "metadata": {},
   "outputs": [
    {
     "name": "stdout",
     "output_type": "stream",
     "text": [
      "False\n"
     ]
    }
   ],
   "source": [
    "print(np.all(c))"
   ]
  },
  {
   "cell_type": "code",
   "execution_count": 97,
   "metadata": {},
   "outputs": [
    {
     "name": "stdout",
     "output_type": "stream",
     "text": [
      "True\n"
     ]
    }
   ],
   "source": [
    "print(np.any(c))"
   ]
  },
  {
   "cell_type": "code",
   "execution_count": 98,
   "metadata": {},
   "outputs": [
    {
     "name": "stdout",
     "output_type": "stream",
     "text": [
      "[[1, 3, 2] [4, 2, 2] [5, 2, 1] [67, 23]]\n"
     ]
    }
   ],
   "source": [
    "lst1=[[4,2,2],[5,2,1],[67,23],[1,3,2]]\n",
    "g=np.array(lst1)\n",
    "print(np.sort(g))"
   ]
  },
  {
   "cell_type": "code",
   "execution_count": 99,
   "metadata": {},
   "outputs": [
    {
     "name": "stdout",
     "output_type": "stream",
     "text": [
      "[ 1  2  3  4 22 53]\n"
     ]
    }
   ],
   "source": [
    "##################################Unique and Other Set Logic######################\n",
    "arr3=np.array([1,2,1,2,3,1,3,4,53,1,2,3,4,2,22,2,2])\n",
    "print(np.unique(arr3))"
   ]
  },
  {
   "cell_type": "code",
   "execution_count": 100,
   "metadata": {},
   "outputs": [
    {
     "name": "stdout",
     "output_type": "stream",
     "text": [
      "[1, 2, 3, 4, 22, 53]\n"
     ]
    }
   ],
   "source": [
    "#the unique can be implemented as with the pure python\n",
    "print(sorted(set(arr3)))"
   ]
  },
  {
   "cell_type": "code",
   "execution_count": 102,
   "metadata": {},
   "outputs": [
    {
     "name": "stdout",
     "output_type": "stream",
     "text": [
      "[ True  True  True False False  True  True]\n"
     ]
    }
   ],
   "source": [
    "v=np.array([1,2,3,89,0,3,2]) #telling that each value of x contained in the y\n",
    "print(np.in1d(v,arr3))"
   ]
  },
  {
   "cell_type": "code",
   "execution_count": 103,
   "metadata": {},
   "outputs": [
    {
     "name": "stdout",
     "output_type": "stream",
     "text": [
      "[1 2 3]\n"
     ]
    }
   ],
   "source": [
    "print(np.intersect1d(v,arr3))#returns sorted common elements in x as well as in y it is just a copy"
   ]
  },
  {
   "cell_type": "code",
   "execution_count": 104,
   "metadata": {},
   "outputs": [
    {
     "name": "stdout",
     "output_type": "stream",
     "text": [
      "[ 1  2  1  2  3  1  3  4 53  1  2  3  4  2 22  2  2]\n"
     ]
    }
   ],
   "source": [
    "print(arr3)"
   ]
  },
  {
   "cell_type": "code",
   "execution_count": 105,
   "metadata": {},
   "outputs": [
    {
     "name": "stdout",
     "output_type": "stream",
     "text": [
      "[ 1  2  3 89  0  3  2]\n"
     ]
    }
   ],
   "source": [
    "print(v)"
   ]
  },
  {
   "cell_type": "code",
   "execution_count": 107,
   "metadata": {},
   "outputs": [],
   "source": [
    "m=np.intersect1d(v,arr3) #it is the shallow copy"
   ]
  },
  {
   "cell_type": "code",
   "execution_count": 108,
   "metadata": {},
   "outputs": [
    {
     "name": "stdout",
     "output_type": "stream",
     "text": [
      "[1 2 3]\n"
     ]
    }
   ],
   "source": [
    "print(m)"
   ]
  },
  {
   "cell_type": "code",
   "execution_count": 109,
   "metadata": {},
   "outputs": [],
   "source": [
    "m[0]=5"
   ]
  },
  {
   "cell_type": "code",
   "execution_count": 110,
   "metadata": {},
   "outputs": [
    {
     "name": "stdout",
     "output_type": "stream",
     "text": [
      "[5 2 3]\n"
     ]
    }
   ],
   "source": [
    "print(m)"
   ]
  },
  {
   "cell_type": "code",
   "execution_count": 111,
   "metadata": {},
   "outputs": [
    {
     "name": "stdout",
     "output_type": "stream",
     "text": [
      "[ 1  2  1  2  3  1  3  4 53  1  2  3  4  2 22  2  2]\n"
     ]
    }
   ],
   "source": [
    "print(arr3)"
   ]
  },
  {
   "cell_type": "code",
   "execution_count": 112,
   "metadata": {},
   "outputs": [
    {
     "name": "stdout",
     "output_type": "stream",
     "text": [
      "[ 1  2  3 89  0  3  2]\n"
     ]
    }
   ],
   "source": [
    "print(v)"
   ]
  },
  {
   "cell_type": "code",
   "execution_count": 113,
   "metadata": {},
   "outputs": [
    {
     "name": "stdout",
     "output_type": "stream",
     "text": [
      "[ 0 89]\n"
     ]
    }
   ],
   "source": [
    "print(np.setdiff1d(v,arr3)) #set difference"
   ]
  },
  {
   "cell_type": "code",
   "execution_count": 114,
   "metadata": {},
   "outputs": [
    {
     "name": "stdout",
     "output_type": "stream",
     "text": [
      "[ 0  4 22 53 89]\n"
     ]
    }
   ],
   "source": [
    "print(np.setxor1d(v,arr3)) #symmentric differnce (A-B)U(B-A)"
   ]
  },
  {
   "cell_type": "code",
   "execution_count": 115,
   "metadata": {},
   "outputs": [],
   "source": [
    "            ########################File Input and Output with Arrays#########################"
   ]
  },
  {
   "cell_type": "code",
   "execution_count": 116,
   "metadata": {},
   "outputs": [
    {
     "name": "stdout",
     "output_type": "stream",
     "text": [
      "[0 1 2 3 4 5 6 7 8 9]\n"
     ]
    }
   ],
   "source": [
    "c1=np.arange(10)\n",
    "print(c1)"
   ]
  },
  {
   "cell_type": "code",
   "execution_count": 117,
   "metadata": {},
   "outputs": [],
   "source": [
    "np.save('Some_array',c1)"
   ]
  },
  {
   "cell_type": "code",
   "execution_count": 119,
   "metadata": {},
   "outputs": [
    {
     "data": {
      "text/plain": [
       "array([0, 1, 2, 3, 4, 5, 6, 7, 8, 9])"
      ]
     },
     "execution_count": 119,
     "metadata": {},
     "output_type": "execute_result"
    }
   ],
   "source": [
    "np.load('Some_array.npy') #this is the file on the disk"
   ]
  },
  {
   "cell_type": "code",
   "execution_count": 120,
   "metadata": {},
   "outputs": [],
   "source": [
    "np.savez('compressed.npz',a=arr3,b=c1) #savez function is compressing the two arrays"
   ]
  },
  {
   "cell_type": "code",
   "execution_count": 121,
   "metadata": {},
   "outputs": [],
   "source": [
    "f=np.load('compressed.npz') #compressed file we are loading for loading from the disk"
   ]
  },
  {
   "cell_type": "code",
   "execution_count": 122,
   "metadata": {},
   "outputs": [
    {
     "data": {
      "text/plain": [
       "array([ 1,  2,  1,  2,  3,  1,  3,  4, 53,  1,  2,  3,  4,  2, 22,  2,  2])"
      ]
     },
     "execution_count": 122,
     "metadata": {},
     "output_type": "execute_result"
    }
   ],
   "source": [
    "f['a'] #if we want access individual file then we can access those as we do in the dictionary"
   ]
  },
  {
   "cell_type": "code",
   "execution_count": 123,
   "metadata": {},
   "outputs": [
    {
     "data": {
      "text/plain": [
       "array([0, 1, 2, 3, 4, 5, 6, 7, 8, 9])"
      ]
     },
     "execution_count": 123,
     "metadata": {},
     "output_type": "execute_result"
    }
   ],
   "source": [
    "f['b']"
   ]
  },
  {
   "cell_type": "code",
   "execution_count": 124,
   "metadata": {},
   "outputs": [
    {
     "name": "stdout",
     "output_type": "stream",
     "text": [
      "<numpy.lib.npyio.NpzFile object at 0x7f5c10018a20>\n"
     ]
    }
   ],
   "source": [
    "print(f) #it will just tell the file type #this is the zip file"
   ]
  },
  {
   "cell_type": "code",
   "execution_count": 125,
   "metadata": {},
   "outputs": [],
   "source": [
    "np.savez_compressed('compressed_file.npz',a=arr3,b=c1) #compressing our data also"
   ]
  },
  {
   "cell_type": "code",
   "execution_count": 126,
   "metadata": {},
   "outputs": [],
   "source": [
    "h=np.load('compressed_file.npz')"
   ]
  },
  {
   "cell_type": "code",
   "execution_count": 127,
   "metadata": {},
   "outputs": [
    {
     "data": {
      "text/plain": [
       "array([ 1,  2,  1,  2,  3,  1,  3,  4, 53,  1,  2,  3,  4,  2, 22,  2,  2])"
      ]
     },
     "execution_count": 127,
     "metadata": {},
     "output_type": "execute_result"
    }
   ],
   "source": [
    "h['a']"
   ]
  },
  {
   "cell_type": "code",
   "execution_count": 139,
   "metadata": {},
   "outputs": [],
   "source": [
    "                ######################Linear Algebra#####################\n",
    "x=np.array([[1,2],[4,5]])"
   ]
  },
  {
   "cell_type": "code",
   "execution_count": 140,
   "metadata": {},
   "outputs": [],
   "source": [
    "y=np.array([[12,13,14],[15,16,17]])"
   ]
  },
  {
   "cell_type": "code",
   "execution_count": 141,
   "metadata": {},
   "outputs": [
    {
     "name": "stdout",
     "output_type": "stream",
     "text": [
      "[[ 42  45  48]\n",
      " [123 132 141]]\n"
     ]
    }
   ],
   "source": [
    "print(x.dot(y))"
   ]
  },
  {
   "cell_type": "code",
   "execution_count": 142,
   "metadata": {},
   "outputs": [
    {
     "data": {
      "text/plain": [
       "array([[ 42,  45,  48],\n",
       "       [123, 132, 141]])"
      ]
     },
     "execution_count": 142,
     "metadata": {},
     "output_type": "execute_result"
    }
   ],
   "source": [
    "#it is same as to write\n",
    "np.dot(x,y)"
   ]
  },
  {
   "cell_type": "code",
   "execution_count": 143,
   "metadata": {},
   "outputs": [
    {
     "data": {
      "text/plain": [
       "array([[ 42,  45,  48],\n",
       "       [123, 132, 141]])"
      ]
     },
     "execution_count": 143,
     "metadata": {},
     "output_type": "execute_result"
    }
   ],
   "source": [
    "x@y #it is also performing matrix multipication"
   ]
  },
  {
   "cell_type": "code",
   "execution_count": 153,
   "metadata": {},
   "outputs": [
    {
     "data": {
      "text/plain": [
       "array([12, 16])"
      ]
     },
     "execution_count": 153,
     "metadata": {},
     "output_type": "execute_result"
    }
   ],
   "source": [
    "np.diag(y)"
   ]
  },
  {
   "cell_type": "code",
   "execution_count": 154,
   "metadata": {},
   "outputs": [
    {
     "data": {
      "text/plain": [
       "array([[ 42,  45,  48],\n",
       "       [123, 132, 141]])"
      ]
     },
     "execution_count": 154,
     "metadata": {},
     "output_type": "execute_result"
    }
   ],
   "source": [
    "np.dot(x,y)"
   ]
  },
  {
   "cell_type": "code",
   "execution_count": 155,
   "metadata": {},
   "outputs": [
    {
     "data": {
      "text/plain": [
       "6"
      ]
     },
     "execution_count": 155,
     "metadata": {},
     "output_type": "execute_result"
    }
   ],
   "source": [
    "np.trace(x)"
   ]
  },
  {
   "cell_type": "code",
   "execution_count": 156,
   "metadata": {},
   "outputs": [
    {
     "data": {
      "text/plain": [
       "-2.9999999999999996"
      ]
     },
     "execution_count": 156,
     "metadata": {},
     "output_type": "execute_result"
    }
   ],
   "source": [
    "np.linalg.det(x)"
   ]
  },
  {
   "cell_type": "code",
   "execution_count": 159,
   "metadata": {},
   "outputs": [],
   "source": [
    "l=np.linalg.eig(x) #here it will return a tuple of both the arrays or eigen values or eigen vectors"
   ]
  },
  {
   "cell_type": "code",
   "execution_count": 160,
   "metadata": {},
   "outputs": [
    {
     "name": "stdout",
     "output_type": "stream",
     "text": [
      "(array([-0.46410162,  6.46410162]), array([[-0.80689822, -0.34372377],\n",
      "       [ 0.59069049, -0.9390708 ]]))\n"
     ]
    }
   ],
   "source": [
    "print(l)"
   ]
  },
  {
   "cell_type": "code",
   "execution_count": 162,
   "metadata": {},
   "outputs": [
    {
     "data": {
      "text/plain": [
       "array([[-1.66666667,  0.66666667],\n",
       "       [ 1.33333333, -0.33333333]])"
      ]
     },
     "execution_count": 162,
     "metadata": {},
     "output_type": "execute_result"
    }
   ],
   "source": [
    "np.linalg.inv(x)"
   ]
  },
  {
   "cell_type": "code",
   "execution_count": 163,
   "metadata": {},
   "outputs": [
    {
     "data": {
      "text/plain": [
       "array([[-1.66666667,  0.66666667],\n",
       "       [ 1.33333333, -0.33333333]])"
      ]
     },
     "execution_count": 163,
     "metadata": {},
     "output_type": "execute_result"
    }
   ],
   "source": [
    "np.linalg.pinv(x)"
   ]
  },
  {
   "cell_type": "code",
   "execution_count": 165,
   "metadata": {},
   "outputs": [
    {
     "data": {
      "text/plain": [
       "(array([[-0.24253563, -0.9701425 ],\n",
       "        [-0.9701425 ,  0.24253563]]), array([[-4.12310563, -5.33578375],\n",
       "        [ 0.        , -0.72760688]]))"
      ]
     },
     "execution_count": 165,
     "metadata": {},
     "output_type": "execute_result"
    }
   ],
   "source": [
    "np.linalg.qr(x) #produce the qr decomposition of the matrix"
   ]
  },
  {
   "cell_type": "code",
   "execution_count": 166,
   "metadata": {},
   "outputs": [
    {
     "data": {
      "text/plain": [
       "(array([[-0.32453643, -0.9458732 ],\n",
       "        [-0.9458732 ,  0.32453643]]),\n",
       " array([ 6.76782894,  0.44327362]),\n",
       " array([[-0.60699365, -0.79470668],\n",
       "        [ 0.79470668, -0.60699365]]))"
      ]
     },
     "execution_count": 166,
     "metadata": {},
     "output_type": "execute_result"
    }
   ],
   "source": [
    "np.linalg.svd(x) #compute the singular value from the matrix"
   ]
  },
  {
   "cell_type": "code",
   "execution_count": 171,
   "metadata": {},
   "outputs": [
    {
     "data": {
      "text/plain": [
       "array([-0.33333333,  0.66666667])"
      ]
     },
     "execution_count": 171,
     "metadata": {},
     "output_type": "execute_result"
    }
   ],
   "source": [
    "b=np.array([1,2])\n",
    "np.linalg.solve(x,b) #like AX=B as we do in the matrix like a calculation of the x and y values using the system of equations it is returning the corresponding x and y values when we are using the system of quations"
   ]
  },
  {
   "cell_type": "code",
   "execution_count": 172,
   "metadata": {},
   "outputs": [
    {
     "data": {
      "text/plain": [
       "(array([-0.33333333,  0.66666667]),\n",
       " array([], dtype=float64),\n",
       " 2,\n",
       " array([ 6.76782894,  0.44327362]))"
      ]
     },
     "execution_count": 172,
     "metadata": {},
     "output_type": "execute_result"
    }
   ],
   "source": [
    "np.linalg.lstsq(x,b) #least square solution"
   ]
  },
  {
   "cell_type": "code",
   "execution_count": 173,
   "metadata": {},
   "outputs": [],
   "source": [
    "                   ###################Pseudorandom Number Generation####################"
   ]
  },
  {
   "cell_type": "code",
   "execution_count": 181,
   "metadata": {},
   "outputs": [
    {
     "name": "stdout",
     "output_type": "stream",
     "text": [
      "None\n"
     ]
    }
   ],
   "source": [
    "print(np.random.seed(123))"
   ]
  },
  {
   "cell_type": "code",
   "execution_count": 182,
   "metadata": {},
   "outputs": [
    {
     "name": "stdout",
     "output_type": "stream",
     "text": [
      "[-1.0856306   0.99734545  0.2829785  -1.50629471 -0.57860025  1.65143654\n",
      " -2.42667924 -0.42891263  1.26593626 -0.8667404 ]\n"
     ]
    }
   ],
   "source": [
    "print(np.random.randn(10))"
   ]
  },
  {
   "cell_type": "code",
   "execution_count": 183,
   "metadata": {},
   "outputs": [],
   "source": [
    "np.random.seed(123)"
   ]
  },
  {
   "cell_type": "code",
   "execution_count": 184,
   "metadata": {},
   "outputs": [
    {
     "name": "stdout",
     "output_type": "stream",
     "text": [
      "[-1.0856306   0.99734545  0.2829785  -1.50629471 -0.57860025  1.65143654\n",
      " -2.42667924 -0.42891263  1.26593626 -0.8667404 ]\n"
     ]
    }
   ],
   "source": [
    "print(np.random.randn(10))"
   ]
  },
  {
   "cell_type": "code",
   "execution_count": 185,
   "metadata": {},
   "outputs": [
    {
     "data": {
      "text/plain": [
       "array([-0.67888615, -0.09470897,  1.49138963, -0.638902  , -0.44398196,\n",
       "       -0.43435128,  2.20593008,  2.18678609,  1.0040539 ,  0.3861864 ])"
      ]
     },
     "execution_count": 185,
     "metadata": {},
     "output_type": "execute_result"
    }
   ],
   "source": [
    "np.random.randn(10) #here value is changed because I have not called the seed function  seed function is fixing the value for that integer part which we are passing as an argument in the random function"
   ]
  },
  {
   "cell_type": "code",
   "execution_count": 188,
   "metadata": {},
   "outputs": [
    {
     "data": {
      "text/plain": [
       "array([7, 5, 6, 8, 9, 3, 0, 4, 1, 2])"
      ]
     },
     "execution_count": 188,
     "metadata": {},
     "output_type": "execute_result"
    }
   ],
   "source": [
    "np.random.permutation(10) #because in the permutation there is the selection"
   ]
  },
  {
   "cell_type": "code",
   "execution_count": 195,
   "metadata": {},
   "outputs": [
    {
     "name": "stdout",
     "output_type": "stream",
     "text": [
      "[1, 3, 2, 5, 4]\n"
     ]
    }
   ],
   "source": [
    "lst=[1,2,3,4,5]  \n",
    "np.random.shuffle(lst) #this function does not return anything it just shuffles the original list in random mannner\n",
    "print(lst)"
   ]
  },
  {
   "cell_type": "code",
   "execution_count": 199,
   "metadata": {},
   "outputs": [
    {
     "data": {
      "text/plain": [
       "array([ 0.5491621 ,  0.55671906,  0.00413464,  0.63802252,  0.05764801,\n",
       "        0.04302691,  0.87505113,  0.2925876 ,  0.76276766,  0.36786526])"
      ]
     },
     "execution_count": 199,
     "metadata": {},
     "output_type": "execute_result"
    }
   ],
   "source": [
    "np.random.rand(10) #uniform distribution"
   ]
  },
  {
   "cell_type": "code",
   "execution_count": 203,
   "metadata": {},
   "outputs": [
    {
     "data": {
      "text/plain": [
       "9"
      ]
     },
     "execution_count": 203,
     "metadata": {},
     "output_type": "execute_result"
    }
   ],
   "source": [
    "np.random.randint(3,10) #generate an random number withing given range"
   ]
  },
  {
   "cell_type": "code",
   "execution_count": 205,
   "metadata": {},
   "outputs": [
    {
     "data": {
      "text/plain": [
       "3"
      ]
     },
     "execution_count": 205,
     "metadata": {},
     "output_type": "execute_result"
    }
   ],
   "source": [
    "np.random.binomial(10,0.5) #the first argument is the number of trials and the second one is the probability and the 3rd one is the size how much time the operation is going to perform"
   ]
  },
  {
   "cell_type": "code",
   "execution_count": 206,
   "metadata": {},
   "outputs": [
    {
     "data": {
      "text/plain": [
       "array([[[3, 4, 6],\n",
       "        [7, 5, 7]]])"
      ]
     },
     "execution_count": 206,
     "metadata": {},
     "output_type": "execute_result"
    }
   ],
   "source": [
    "np.random.binomial(10,0.5,(1,2,3)) # If size is None (default), a single value is returned if n and p are both scalars. Otherwise, np.broadcast(n, p).size samples are drawn."
   ]
  },
  {
   "cell_type": "code",
   "execution_count": 210,
   "metadata": {},
   "outputs": [
    {
     "data": {
      "text/plain": [
       "0.17108182920509907"
      ]
     },
     "execution_count": 210,
     "metadata": {},
     "output_type": "execute_result"
    }
   ],
   "source": [
    "np.random.uniform() #return the uniform value between the [0,1)"
   ]
  },
  {
   "cell_type": "code",
   "execution_count": 211,
   "metadata": {},
   "outputs": [],
   "source": [
    "                   #################Random Walks########################"
   ]
  },
  {
   "cell_type": "code",
   "execution_count": 215,
   "metadata": {},
   "outputs": [
    {
     "name": "stdout",
     "output_type": "stream",
     "text": [
      "[ -1  -2  -1   0   1   2   1   2   1   2   3   2   1   2   1   0   1   2\n",
      "   1   0  -1   0  -1   0   1   2   1   0  -1  -2  -1  -2  -3  -4  -5  -4\n",
      "  -3  -2  -3  -2  -1   0   1   0   1   2   1   2   3   4   5   4   3   4\n",
      "   3   2   1   0   1   2   3   2   3   2   3   2   1   2   1   2   3   4\n",
      "   3   2   1   0   1   0  -1  -2  -1   0  -1  -2  -3  -2  -1  -2  -1   0\n",
      "   1   0  -1   0   1   0   1   0   1   0   1   0  -1   0  -1   0   1   2\n",
      "   1   2   1   0  -1  -2  -1  -2  -3  -4  -3  -4  -3  -2  -3  -4  -5  -6\n",
      "  -5  -6  -5  -4  -3  -2  -1   0  -1  -2  -1  -2  -3  -4  -5  -6  -7  -6\n",
      "  -5  -6  -5  -4  -5  -6  -5  -4  -5  -4  -3  -2  -1   0  -1  -2  -1  -2\n",
      "  -3  -4  -5  -6  -7  -6  -5  -4  -3  -4  -3  -4  -5  -4  -5  -6  -5  -6\n",
      "  -7  -6  -7  -6  -5  -6  -5  -6  -7  -8  -9 -10  -9 -10  -9 -10 -11 -10\n",
      " -11 -10 -11 -10 -11 -10 -11 -12 -13 -14 -13 -14 -13 -12 -13 -12 -13 -14\n",
      " -13 -12 -11 -12 -11 -10 -11 -12 -11 -12 -11 -10  -9 -10 -11 -12 -11 -10\n",
      "  -9 -10 -11 -12 -11 -10  -9  -8  -7  -6  -5  -4  -5  -6  -7  -8  -9  -8\n",
      "  -9  -8  -7  -8  -9  -8  -9 -10 -11 -12 -11 -12 -13 -12 -11 -10  -9  -8\n",
      "  -7  -8  -7  -6  -7  -8  -7  -8  -7  -8  -9  -8  -7  -8  -9  -8  -9 -10\n",
      " -11 -10  -9  -8  -9 -10 -11 -10  -9 -10 -11 -10 -11 -10 -11 -12 -11 -12\n",
      " -11 -12 -13 -14 -13 -12 -13 -12 -11 -12 -11 -12 -13 -14 -15 -16 -15 -16\n",
      " -17 -18 -17 -16 -17 -18 -19 -20 -21 -20 -21 -20 -19 -18 -19 -20 -19 -20\n",
      " -19 -20 -19 -18 -19 -18 -19 -20 -21 -20 -19 -20 -21 -20 -19 -20 -19 -18\n",
      " -19 -18 -17 -18 -19 -20 -21 -22 -23 -22 -23 -24 -25 -24 -25 -24 -25 -26\n",
      " -27 -26 -27 -28 -27 -26 -27 -26 -25 -24 -23 -24 -23 -24 -23 -24 -23 -24\n",
      " -23 -24 -25 -24 -25 -24 -25 -24 -23 -22 -21 -22 -23 -22 -23 -24 -25 -26\n",
      " -27 -28 -29 -28 -27 -28 -29 -28 -29 -30 -31 -32 -33 -32 -33 -34 -33 -34\n",
      " -35 -34 -33 -34 -33 -34 -35 -34 -35 -34 -33 -32 -31 -32 -33 -34 -35 -34\n",
      " -35 -34 -33 -34 -33 -32 -33 -34 -35 -36 -35 -36 -37 -38 -39 -38 -37 -36\n",
      " -35 -34 -35 -34 -33 -34 -35 -36 -35 -36 -35 -34 -33 -32 -33 -34 -35 -36\n",
      " -35 -34 -33 -34 -35 -36 -35 -34 -35 -36 -37 -36 -35 -36 -35 -36 -37 -36\n",
      " -35 -36 -37 -36 -37 -38 -39 -40 -39 -38 -37 -38 -39 -38 -37 -36 -37 -38\n",
      " -39 -38 -37 -38 -37 -38 -39 -38 -39 -38 -37 -38 -39 -38 -37 -38 -37 -38\n",
      " -39 -38 -37 -38 -39 -40 -41 -40 -39 -40 -41 -42 -41 -40 -41 -42 -41 -40\n",
      " -39 -38 -39 -38 -39 -38 -37 -38 -37 -36 -37 -36 -35 -34 -33 -34 -35 -34\n",
      " -35 -34 -33 -32 -31 -30 -29 -30 -29 -30 -31 -30 -29 -28 -29 -30 -29 -28\n",
      " -29 -30 -31 -30 -29 -30 -31 -32 -33 -34 -33 -34 -33 -32 -31 -32 -33 -32\n",
      " -33 -32 -31 -30 -31 -30 -29 -30 -31 -32 -33 -32 -33 -32 -33 -34 -33 -32\n",
      " -31 -30 -29 -28 -27 -26 -25 -26 -27 -26 -25 -24 -23 -22 -21 -20 -21 -20\n",
      " -19 -20 -21 -22 -21 -20 -19 -20 -21 -22 -23 -22 -21 -22 -23 -22 -23 -22\n",
      " -21 -20 -19 -18 -19 -20 -21 -20 -21 -22 -23 -22 -21 -22 -23 -24 -25 -24\n",
      " -23 -22 -23 -24 -25 -24 -23 -24 -23 -24 -25 -24 -25 -26 -25 -24 -23 -24\n",
      " -23 -22 -21 -20 -19 -20 -19 -18 -19 -20 -19 -18 -19 -18 -19 -18 -19 -20\n",
      " -21 -20 -21 -20 -21 -22 -21 -20 -19 -20 -21 -22 -21 -22 -23 -22 -21 -22\n",
      " -23 -24 -23 -22 -21 -20 -19 -18 -17 -18 -17 -18 -19 -20 -19 -18 -17 -18\n",
      " -19 -18 -19 -18 -17 -16 -17 -18 -17 -18 -17 -16 -15 -14 -15 -14 -13 -12\n",
      " -11 -12 -11 -10  -9 -10  -9 -10  -9 -10 -11 -10 -11 -10  -9 -10 -11 -12\n",
      " -11 -10 -11 -10  -9  -8  -9 -10  -9 -10  -9 -10 -11 -10  -9 -10  -9  -8\n",
      "  -9  -8  -9  -8  -9 -10 -11 -12 -11 -12 -11 -12 -13 -14 -13 -14 -13 -12\n",
      " -11 -10 -11 -12 -13 -12 -11 -10 -11 -10  -9  -8  -9 -10  -9 -10 -11 -10\n",
      " -11 -12 -11 -12 -13 -12 -13 -14 -15 -14 -15 -14 -13 -14 -15 -16 -17 -18\n",
      " -17 -18 -19 -18 -19 -18 -17 -18 -19 -20 -21 -20 -19 -20 -19 -18 -19 -20\n",
      " -19 -20 -21 -22 -21 -20 -21 -22 -23 -24 -23 -24 -23 -24 -23 -22 -23 -24\n",
      " -25 -24 -23 -24 -25 -26 -27 -26 -27 -26 -27 -28 -27 -26 -27 -28 -29 -28\n",
      " -27 -26 -27 -28 -27 -26 -25 -24 -25 -26 -25 -26 -25 -26 -25 -26 -27 -28\n",
      " -27 -26 -25 -24 -25 -26 -25 -24 -25 -24 -25 -24 -25 -24 -23 -24 -25 -26\n",
      " -25 -24 -23 -24 -25 -24 -25 -26 -27 -28 -29 -28 -27 -26 -25 -26 -27 -26\n",
      " -25 -24 -23 -24 -25 -24 -23 -22 -21 -22 -23 -24 -23 -24 -25 -26 -27 -26\n",
      " -25 -26 -25 -26 -27 -28 -27 -26 -25 -24]\n"
     ]
    }
   ],
   "source": [
    "#walk is just the commulative sum of all the random steps#\n",
    "nsteps=1000\n",
    "draws=np.random.randint(0,2,size=nsteps)\n",
    "steps=np.where(draws>0,1,-1) \n",
    "walk=np.cumsum(steps)\n",
    "print(walk)"
   ]
  },
  {
   "cell_type": "code",
   "execution_count": 216,
   "metadata": {},
   "outputs": [
    {
     "name": "stdout",
     "output_type": "stream",
     "text": [
      "-42\n"
     ]
    }
   ],
   "source": [
    "print(walk.min())"
   ]
  },
  {
   "cell_type": "code",
   "execution_count": 217,
   "metadata": {},
   "outputs": [
    {
     "name": "stdout",
     "output_type": "stream",
     "text": [
      "5\n"
     ]
    }
   ],
   "source": [
    "print(walk.max())"
   ]
  },
  {
   "cell_type": "code",
   "execution_count": 218,
   "metadata": {},
   "outputs": [
    {
     "name": "stdout",
     "output_type": "stream",
     "text": [
      "50\n"
     ]
    }
   ],
   "source": [
    "print(walk.argmax()) #returning the index of the maximum walk"
   ]
  },
  {
   "cell_type": "code",
   "execution_count": 219,
   "metadata": {},
   "outputs": [
    {
     "data": {
      "text/plain": [
       "191"
      ]
     },
     "execution_count": 219,
     "metadata": {},
     "output_type": "execute_result"
    }
   ],
   "source": [
    "(np.abs(walk)>=10).argmax() #that is the index number 191 whwere the walk has reahed greater than 10"
   ]
  },
  {
   "cell_type": "code",
   "execution_count": 220,
   "metadata": {},
   "outputs": [
    {
     "name": "stdout",
     "output_type": "stream",
     "text": [
      "[[  1   0  -1 ..., -24 -23 -24]\n",
      " [ -1  -2  -3 ...,  -2  -3  -2]\n",
      " [  1   0  -1 ...,  -2  -1  -2]\n",
      " ..., \n",
      " [ -1   0   1 ...,   0  -1  -2]\n",
      " [ -1  -2  -1 ..., -38 -39 -38]\n",
      " [ -1   0   1 ...,   2   3   4]]\n"
     ]
    }
   ],
   "source": [
    "         ####simulating many random walks we can perform these using the 2d array#######################\n",
    "#for eg:\n",
    "msteps=1000\n",
    "draws1=np.random.randint(0,2,size=(nsteps,msteps))\n",
    "step=np.where(draws1>0,1,-1) #total 1000000 these much steps are going to be done\n",
    "walk=step.cumsum(1) # this is along the axis 1 \n",
    "print(walk) #this is returning the 2d array"
   ]
  },
  {
   "cell_type": "code",
   "execution_count": 221,
   "metadata": {},
   "outputs": [
    {
     "name": "stdout",
     "output_type": "stream",
     "text": [
      "114\n"
     ]
    }
   ],
   "source": [
    "print(walk.max())"
   ]
  },
  {
   "cell_type": "code",
   "execution_count": 222,
   "metadata": {},
   "outputs": [
    {
     "name": "stdout",
     "output_type": "stream",
     "text": [
      "-122\n"
     ]
    }
   ],
   "source": [
    "print(walk.min())"
   ]
  },
  {
   "cell_type": "code",
   "execution_count": 223,
   "metadata": {},
   "outputs": [
    {
     "name": "stdout",
     "output_type": "stream",
     "text": [
      "243983\n"
     ]
    }
   ],
   "source": [
    "print(walk.argmin()) #index number"
   ]
  },
  {
   "cell_type": "code",
   "execution_count": 224,
   "metadata": {},
   "outputs": [
    {
     "name": "stdout",
     "output_type": "stream",
     "text": [
      "922839\n"
     ]
    }
   ],
   "source": [
    "print(walk.argmax()) #index number of the maximum walk"
   ]
  },
  {
   "cell_type": "code",
   "execution_count": null,
   "metadata": {},
   "outputs": [],
   "source": []
  }
 ],
 "metadata": {
  "kernelspec": {
   "display_name": "Python 3",
   "language": "python",
   "name": "python3"
  },
  "language_info": {
   "codemirror_mode": {
    "name": "ipython",
    "version": 3
   },
   "file_extension": ".py",
   "mimetype": "text/x-python",
   "name": "python",
   "nbconvert_exporter": "python",
   "pygments_lexer": "ipython3",
   "version": "3.5.2"
  }
 },
 "nbformat": 4,
 "nbformat_minor": 2
}
